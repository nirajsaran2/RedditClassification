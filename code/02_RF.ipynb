{
 "cells": [
  {
   "cell_type": "markdown",
   "id": "622312b7-b7a3-4a52-bcae-29b9dad8059d",
   "metadata": {},
   "source": [
    "\n",
    "# Project 3: Classifying a Reddit post - Classification\n"
   ]
  },
  {
   "cell_type": "markdown",
   "id": "4fdde7d1-ffc4-457b-ae32-c7c99dbadbf6",
   "metadata": {},
   "source": [
    "--- \n",
    "# Part 2\n",
    "\n",
    "### Pre-processing, Random Forest and SVC model evaluation, visualizations\n",
    "\n",
    "---"
   ]
  },
  {
   "cell_type": "markdown",
   "id": "f4f0b04b-ea34-4cd9-ac40-0e0408f5e60e",
   "metadata": {},
   "source": [
    "### Contents:\n",
    "- [Modelling](#Modelling)\n",
    "- [The Data](#The-Data)\n",
    "- [Get Data from Reddit](#Get-Data-from-Reddit)\n",
    "- [Data Cleaning and EDA](#Data-Cleaning-and-EDA)\n",
    "- [Deep Dive on Random Forest](#Deep-Dive-on-Random-Forest)\n",
    "- [Deep Dive on Support Vector Classifier](#Deep-Dive-on-Support-Vector-Classifier)\n",
    "- [Visualizations](#Visualizations)"
   ]
  },
  {
   "cell_type": "markdown",
   "id": "75615812-8b69-4638-9670-ac360dacab82",
   "metadata": {},
   "source": [
    "#### \n",
    "- Preprocessing:\n",
    "**NLP and Classification:** \n",
    "Getting the reddit data using Pushshift\n",
    "After doing the preliminary EDA, the only columns of interest are the Title and selftext (body).   \n",
    "\n",
    "2 main areas to investigate: \n",
    "1. Whether to tokenize title, selftext or both\n",
    "2. Not surprisingly, there are many words in common between the two subreddits. How do we figure out the list of stop words that the classifier can ignore? How many tokens should we use in our stop word list - just the default english (that comes from sklearn), the Top 100 or the Top 1000 common across both subreddits? (pickled the stop_words file for access by GridSearch)\n",
    "\n",
    "Use the CountVectorizer and TF-IDF Transformer to vectorize the title and selftext, then tried multiple Classifiers using a two-step approach. \n",
    "In the first step, using GridSearch, I determined the optimal parameters for CountVectorizer and each of the classifiers - Random Forest, Support Vector Classifier (SVC), KNN and Extra Trees Classifier. \n",
    "\n",
    "**Psuedo-Hyperparameters:**\n",
    "\n",
    "Do we tokenize title, or selftext or both? \n",
    "How many stop words to use: 10, 100, 1000? \n",
    "Hmmm, these smell like hyper-parameters  - these are my pseudo-hyper-parameters!\n",
    "\n",
    "I then tried out all 9 combinations of (title, selftext, title_selftext with english, Top 100 and Top 1000 stop words) in a neat little MetaGridSearch function, obtained all the classification metrics and stored the results in a dataframe, for each of the four classifiers. Each of these was written to disk and then later merged together to create a composite results dataframe for comparing all the models. \n",
    "\n",
    "\n",
    "\n"
   ]
  },
  {
   "cell_type": "markdown",
   "id": "ea1ddffb-80dc-41fd-b150-b5a84482e951",
   "metadata": {},
   "source": [
    "## Modelling <a class=\"anchor\" id=\"Modelling\"></a>\n",
    "\n",
    "How do we predict which subreddit (of the two specfied) a post belongs to?   \n",
    "We will use multiple classification models: Random Forest, SVC, KNN and ExtremeTree Classifiers.   \n",
    "A framework has been created to easily iterate through multiple models and compare their results, all with just a few lines of code. We could easily model many more models (but will keep that for the future).  \n"
   ]
  },
  {
   "cell_type": "markdown",
   "id": "62f724f5-13ba-4a1f-a39f-0333556509df",
   "metadata": {},
   "source": [
    "From our EDA, we realized we need to figure out whether to just use the Title from a reddit submission or the selftext or a combination of both. \n",
    "We are also trying to figure out which Stop Words are the best - the default ENGLISH_STOP_WORDS from sklearn, or the Top 100 or Top 1000 common words across both the subreddits. \n",
    "\n",
    "GridSearch obviously doesn't consider the column of text as a hyperparameter, so we have to loop through it ourselves.\n",
    "\n",
    "We could pass the different stop words options as pipe parms, but then we get back the result only for the one that performs best from an accuracy perspective. \n",
    "We will not be able to get the detailed classification metrics for each of the combinations. \n",
    "\n",
    "Hence **MetaGridSearch!**   \n",
    "The MetaGridSearch framework does exactly as the name implies. It loops over the parameters which are not hyperparmeters, and then calls GridSearch\n",
    "\n",
    "It calls model and then calls evaluate_model. It gets the results for each iteration and appends them to a full_results dataframe, which is returned back from this function\n",
    "\n",
    "\n"
   ]
  },
  {
   "cell_type": "markdown",
   "id": "14921ead-39ba-4678-b9d9-b624d17e87a6",
   "metadata": {},
   "source": [
    "#### **Model Evaluation:** \n",
    "After analyzing the classification metrics with various visualizations, deciding which ones are the most relevant in our scenario. \n",
    "\n"
   ]
  },
  {
   "cell_type": "code",
   "execution_count": 1,
   "id": "54ff4bd5-ceda-45cf-b562-bcf236ad1a23",
   "metadata": {},
   "outputs": [],
   "source": [
    "# Imports:\n",
    "import numpy as np\n",
    "import pandas as pd\n",
    "import matplotlib.pyplot as plt\n",
    "\n",
    "from sklearn.metrics import mean_squared_error\n",
    "from sklearn.model_selection import cross_val_score, train_test_split, GridSearchCV\n",
    "\n",
    "from sklearn.preprocessing import StandardScaler\n",
    "from sklearn.feature_extraction.text import CountVectorizer, TfidfVectorizer\n",
    "from sklearn.ensemble import RandomForestClassifier, ExtraTreesClassifier\n",
    "from sklearn.compose import ColumnTransformer\n",
    "from sklearn.svm import SVC\n",
    "from sklearn.neighbors import KNeighborsClassifier\n",
    "\n",
    "from sklearn.pipeline import Pipeline\n",
    "from sklearn.feature_extraction.text import TfidfTransformer\n",
    "\n",
    "from sklearn.metrics import plot_confusion_matrix, ConfusionMatrixDisplay, confusion_matrix\n",
    "from sklearn.metrics import accuracy_score, plot_roc_curve, roc_auc_score, precision_score, f1_score, recall_score, roc_curve\n",
    "\n",
    "import pickle\n",
    "import time\n",
    "import seaborn as sns\n"
   ]
  },
  {
   "cell_type": "markdown",
   "id": "12ad4ecc-7c5e-4a09-a656-f06601608999",
   "metadata": {},
   "source": [
    "#### Have created a number of functions to make the processing much simpler\n",
    "prepare_df(file1, file2): returns combined_df  \n",
    "model ( X, y, pipe, pipe_params): returns GridSearch obj   \n",
    "read_stop_words(file_name): returns the list of stop words from a file  \n",
    "evaluate_model(gs, df_column_text_type, stop_word_type, preds, preds_prob): returns a dataframe containing all the classification metrics  \n"
   ]
  },
  {
   "cell_type": "markdown",
   "id": "f663ea0a-ce47-4cb0-8d2e-f9770ed44fff",
   "metadata": {},
   "source": [
    "\n",
    "Read the two subreddit files, drop Unnamed column, merge into one dataframe, drop nulls, map target to numeric.  \n",
    "Returns combined_df\n"
   ]
  },
  {
   "cell_type": "code",
   "execution_count": 2,
   "id": "ee11f712-ee11-4b4a-806c-ab2052a9ff25",
   "metadata": {},
   "outputs": [],
   "source": [
    "# Function to read the running and c25k files, merge and return the combined datafrome\n",
    "\n",
    "def prepare_df(file1, file2 ):\n",
    "    df1 = pd.read_csv(file1)\n",
    "    df2 = pd.read_csv(file2)\n",
    "\n",
    "    df1.drop( columns=\"Unnamed: 0\", inplace=True)     # if error, how to ignore?\n",
    "    df2.drop( columns=\"Unnamed: 0\", inplace=True)\n",
    "    \n",
    "    print( f\"Shape df1: {df1.shape}, df2: {df2.shape}\")\n",
    "\n",
    "\n",
    "    # combine into merged dataframe\n",
    "    combined_df = df1.append(df2, ignore_index=True)\n",
    "    \n",
    "    # convert subbreddit col to numeric\n",
    "    combined_df['subreddit'] = combined_df['subreddit'].map({\n",
    "                                    \"running\": 1, # can generalize later if needed\n",
    "                                    \"C25K\" : 0\n",
    "                                    })\n",
    "    \n",
    "    # drop the 288 rows containing null selftexts, since we're using both title+selftext\n",
    "    combined_df.dropna(inplace=True) \n",
    "    \n",
    "    # create new column combining the title and body (selftext)\n",
    "    combined_df['title_selftext'] = combined_df[\"title\"] + \".\\\\n\" + combined_df[\"selftext\"]\n",
    "\n",
    "    print( f\"Shape combined: {combined_df.shape}\")\n",
    "    return combined_df"
   ]
  },
  {
   "cell_type": "code",
   "execution_count": 3,
   "id": "539affa7-f0fa-4a79-b586-91dc722ddb75",
   "metadata": {},
   "outputs": [
    {
     "name": "stdout",
     "output_type": "stream",
     "text": [
      "Shape df1: (9915, 9), df2: (4337, 9)\n",
      "Shape combined: (13940, 10)\n"
     ]
    }
   ],
   "source": [
    "# Call the function. Pass in the two files saved from reading the reddit data\n",
    "\n",
    "combined_df = prepare_df(\"../data/running.csv\", \"../data/c25k.csv\" )"
   ]
  },
  {
   "cell_type": "code",
   "execution_count": 4,
   "id": "e4d6875e-a1e5-491b-96d3-5ef820aa2496",
   "metadata": {},
   "outputs": [],
   "source": [
    "#combined_df"
   ]
  },
  {
   "cell_type": "markdown",
   "id": "869452a1-0048-4bb3-9a06-08bb4457ecd4",
   "metadata": {},
   "source": [
    "#### Split, instantiate model, fit\n",
    "This is the one that calls the sklearn GridSearch.  \n",
    "Returns the gridsearch object for model evaluation"
   ]
  },
  {
   "cell_type": "code",
   "execution_count": 5,
   "id": "24ac9bf9-685f-43e1-aa7c-5c1146552175",
   "metadata": {},
   "outputs": [],
   "source": [
    "# modeling and fit\n",
    "\n",
    "def model ( X, y, pipe, pipe_params):\n",
    "    \n",
    "    global X_train, X_test, y_train, y_test # to update global varibale for use by rest of notebook\n",
    "    \n",
    "    X_train, X_test, y_train, y_test = train_test_split( X, y, stratify = y, random_state = 42)\n",
    "\n",
    "    # Start our timer.\n",
    "    t0 = time.time()\n",
    "\n",
    "    # Instantiate GridSearchCV.\n",
    "    gs = GridSearchCV(pipe, param_grid=pipe_params, cv=5, verbose=1, n_jobs=6)\n",
    "\n",
    "    # Fit and transform GridSearch to training data.\n",
    "    gs.fit(X_train, y_train)\n",
    "\n",
    "    # Stop our timer and print the result.\n",
    "    print(f\"Time taken: {time.time() - t0} secs\")\n",
    "\n",
    "    return gs\n",
    "\n"
   ]
  },
  {
   "cell_type": "markdown",
   "id": "26f99622-4ae2-41a0-8c08-2bc6d9fe3b06",
   "metadata": {},
   "source": [
    "#### Function to read stop_words list pickled data from file\n",
    "Returns the stop words list "
   ]
  },
  {
   "cell_type": "code",
   "execution_count": 6,
   "id": "dea985e9-55c8-4f45-add2-36eecae5bcb0",
   "metadata": {},
   "outputs": [],
   "source": [
    "\n",
    "def read_stop_words(file_name):\n",
    "\n",
    "    if file_name == 'english':  # if 'english' use the stop_words from sk_learn\n",
    "        stop_words_list = 'english'\n",
    "    else:\n",
    "        with open( file_name, 'rb') as f:\n",
    "            stop_words_list = pickle.load(f)\n",
    "        \n",
    "#    print( f\"Length of stop_words_list: {len(stop_words_list)}\")\n",
    "    return stop_words_list\n",
    "\n",
    "        "
   ]
  },
  {
   "cell_type": "markdown",
   "id": "b47567eb-3425-4f4c-b977-d137ccb300f8",
   "metadata": {},
   "source": [
    "#### Nice helper function which collects all the classification metrics in one dataframe"
   ]
  },
  {
   "cell_type": "code",
   "execution_count": 7,
   "id": "0e48d4a0-d81b-41d7-9751-3cb597747247",
   "metadata": {},
   "outputs": [],
   "source": [
    "# Evaluate model, return results_df \n",
    "\n",
    "def evaluate_model(gs, df_column_text_type, stop_word_type, preds, preds_prob):\n",
    "\n",
    "    # not using col_list any more...\n",
    "#    col_list = [[\n",
    "#        \"Reddit Text Type\", \"Stop Word Type\", \n",
    "#        \"Baseline Score\", \"Training Score\", \"Test Score\", \"Variance of Test vs Training Score\", \"TN\", \"FP\", \"FN\", \"TP\", \n",
    "#        \"Accuracy\", \"Sensitivity\", \"Specificity\", \"Precision\", \n",
    "#        \"F1 Score\", \"ROC AUC Score\", \"Best Score\" #, \"Best Params\"\n",
    "#    ]]\n",
    "\n",
    "#    print( f\"Evaluate:  {df_column_text_type}, {stop_word_type}\" )\n",
    "\n",
    "    results_df = pd.DataFrame()    \n",
    "#    results_df = pd.DataFrame(columns = col_list )\n",
    "\n",
    "\n",
    "    results_df[\"Reddit Text Type\"] = [df_column_text_type] # title, selftext or Both\n",
    "    results_df[\"Stop Word Type\"] = [stop_word_type] # \"english\", Top 100, or Top 1000\n",
    "\n",
    "#    print( results_df[\"Reddit Text Type\"], results_df[\"Stop Word Type\"] )\n",
    "\n",
    "    # baseline\n",
    "    results_df[\"Baseline Score\"] = [y_test.value_counts(normalize = True)[1]]\n",
    "#    print( f\"Baseline Score: \\n{y_test.value_counts(normalize = True)}\")\n",
    "    \n",
    "    \n",
    "    # Score model on training set.\n",
    "    results_df[\"Training Score\"] = [gs.score(X_train, y_train)]\n",
    "#    print(f'Training Score: {gs.score(X_train, y_train)}')\n",
    "\n",
    "    # Score model on testing set.\n",
    "    results_df[\"Test Score\"] = [gs.score(X_test, y_test)]\n",
    "#    print(f'Testing Score: {gs.score(X_test, y_test)}')\n",
    "\n",
    "    # Create a column that contains the percent difference between the Training and Test Score. This measures our variance (lower the better)\n",
    "    results_df[\"Variance of Test vs Training Score\"] = (results_df[\"Training Score\"]-results_df[\"Test Score\"])/results_df[\"Training Score\"]*100\n",
    "\n",
    "    ## Create variable to store confusion matrix\n",
    "    cm = confusion_matrix(y_test, preds)\n",
    "    tn, fp, fn, tp = cm.ravel()\n",
    "    \n",
    "    results_df[\"TN\"] = [tn]\n",
    "    results_df[\"FP\"] = [fp]\n",
    "    results_df[\"FN\"] = [fn]\n",
    "    results_df[\"TP\"] = [tp]\n",
    "        \n",
    "    accuracy = (tp + tn) / (tp + fn + fp + tn)\n",
    "    results_df[\"Accuracy\"] = [accuracy]\n",
    "    \n",
    "    sensitivity = tp /(tp + fn)\n",
    "    results_df[\"Sensitivity\"] = [sensitivity]\n",
    "\n",
    "\n",
    "    specificity = (tn)/(tn+fp)\n",
    "    results_df[\"Specificity\"] = [specificity]\n",
    "\n",
    "\n",
    "    precision = tp / (tp + fp)\n",
    "    results_df[\"Precision\"] = [precision]\n",
    "\n",
    "    f1 = f1_score(y_test, preds)\n",
    "    results_df[\"F1 Score\"] = [f1]\n",
    "             \n",
    "    # calculate AUC\n",
    "    roc = roc_auc_score(y_test, preds_prob)\n",
    "    results_df[\"ROC AUC Score\"] = [roc]\n",
    "    \n",
    "    # calculate cross-validated AUC\n",
    "##    cross_val_score(logreg, X, y, cv=10, scoring='roc_auc').mean()\n",
    "\n",
    "    # Check params\n",
    "    results_df[\"Best Score\"] = [gs.best_score_]\n",
    "#    results_df[\"Best Params\"] = gs.best_params_\n",
    "\n",
    "#    print( f\"Evaluate:\\\\n {results_df}\\\\n Returning from evaluate.\")\n",
    "\n",
    "    return results_df\n",
    "\n"
   ]
  },
  {
   "cell_type": "markdown",
   "id": "723a8fab-7624-4727-b7c8-1f1669bf9599",
   "metadata": {},
   "source": [
    "#### The MetaGridSearch does exactly as the name implies. It loops over the parameters which are not hyperparmeters, and then calls GridSearch\n",
    "\n",
    "We are trying to figure out whether to just use the Title from a reddit submission or the selftext or a combination of both. \n",
    "We are also trying to figure out which Stop Words are the best - the default ENGLISH_STOP_WORDS from sklearn, or the Top 100 or Top 1000 common words across both the subreddits. \n",
    "\n",
    "GridSearch obviously doesn't consider the column of text as a hyperparameter, so we have to loop through it ourselves.\n",
    "\n",
    "We could pass the different stop words options as pipe parms, but then we get back the result only for the one that performs best from an accuracy perspective. \n",
    "We will not be able to get the detailed classificstion metrics for each of the combinations. \n",
    "\n",
    "Hence MetaGridSearch! \n",
    "\n",
    "    \n",
    "It calls model and then calls evaluate_model. It gets the results for each iteration and appends them to a full_results dataframe, which is returned back from this function\n",
    "\n",
    "\n"
   ]
  },
  {
   "cell_type": "code",
   "execution_count": 8,
   "id": "5c4098c2-3364-43c7-b578-77794764d39b",
   "metadata": {
    "tags": []
   },
   "outputs": [],
   "source": [
    "# Super cool meta function, iterate over GridSearch by model, subreddit text type, stop words\n",
    "# Can skip the Meta part of iterating over all the Reddit Text Types and Stop Word types \n",
    "# by setting the best parameter to True\n",
    "\n",
    "# return list of results \n",
    "\n",
    "def MetaGridSearch( pipe, pipe_params, best=False):\n",
    "\n",
    "    #CountVectorize, TFIDVectorize, pipeline, evalaute\n",
    "    global gs_list\n",
    "    gs_list = []\n",
    "    full_results_df = pd.DataFrame()\n",
    "\n",
    "    y = combined_df[\"subreddit\"]\n",
    "    stop_word_types = [\"english\", \"Top 100\", \"Top 1000\"]\n",
    "\n",
    "\n",
    "    if best == False: #  (default)\n",
    "        df_column_names = ['title', 'selftext', 'title_selftext']\n",
    "\n",
    "        files = [['english', r'../data/stop_words_100_title.pkl', r'../data/stop_words_1000_title.pkl'],\n",
    "                ['english', r'../data/stop_words_100_body.pkl', r'../data/stop_words_1000_body.pkl'],\n",
    "                ['english', r'../data/stop_words_100_t_s.pkl', r'../data/stop_words_1000_t_s.pkl']]\n",
    "    else: # only do one iteration with the known best params\n",
    "        \n",
    "        df_column_names = ['title_selftext']\n",
    "\n",
    "        files = [['english', r'../data/stop_words_100_t_s.pkl']]\n",
    "    \n",
    "\n",
    "        \n",
    "    # loop 9 times - for each of the 3 test types( title, selftext and title_selftext) do for each of the 3 stop-words (english, 100, 1000)\n",
    "    for df_idx, df_column_name in enumerate( df_column_names ): # go through the 3 dfs\n",
    "        for stop_idx, stop_word_file in enumerate( files[df_idx]) :  # pick the corresponding stop word file\n",
    "            \n",
    "            # display so we know how much is done (and more importantly how much is left!)\n",
    "            total = len(df_column_names)* len(files[0])\n",
    "            current = (df_idx)*3 + stop_idx + 1\n",
    "            print( f\"Loop: {current} out of {total}\") \n",
    "            \n",
    "            stop_words_list = read_stop_words(stop_word_file)\n",
    "            stop_word_type = stop_word_types[stop_idx] # pass the stop word type name for results \n",
    "\n",
    "            # set X \n",
    "            X = combined_df[df_column_name] # df containing data for one column - either title, selftext or both\n",
    "            \n",
    "            \n",
    "            # set stop)words in the pipe_params: for naow assume it is cvec__stop_words; maybe do lookup by value = 'english'\n",
    "            pipe_params['cvec__stop_words'] = [stop_words_list]\n",
    "            \n",
    "            # call the model for each df, stop_words\n",
    "            gs = model( X, y, pipe, pipe_params )\n",
    "\n",
    "\n",
    "            preds = gs.predict(X_test)\n",
    "\n",
    "            preds_prob = gs.predict_proba(X_test)[:,1] # 2nd column has the predicted prob of majority class ('running')\n",
    "\n",
    "            #evaluate model \n",
    "            results_df = evaluate_model(gs, df_column_name, stop_word_type, preds, preds_prob) # put results by each of the 9 combinations\n",
    "            \n",
    "#            print( f\"Meta: Back from Evaluate:\\\\n {results_df}\\\\n Returned from evaluate.\")\n",
    "\n",
    "#            print( f\"Meta: appending to full_results_df: {df_idx}, {stop_idx}, {results_df.info()}\" )\n",
    "            full_results_df = full_results_df.append(results_df, ignore_index=True)\n",
    "\n",
    "#            print( f\"Meta: appended to full_results_df: {df_idx}, {stop_idx}, {full_results_df.info()}\" )\n",
    "            \n",
    "            gs_list.append(gs) # if needed for later\n",
    "\n",
    "    print(\"Done!\")\n",
    "    return full_results_df\n"
   ]
  },
  {
   "cell_type": "markdown",
   "id": "3f88c81f-96e1-40dd-8823-319d2c5265e7",
   "metadata": {},
   "source": [
    "#### Now actually initiate the modeling - this is for Random Forest\n",
    "The optimal parameters have already been determined by much GridSearch. We now use the optimal parameters (only hyperparameter tuning is alpha, just to show the tuning)\n",
    "This creates the desired pipeline and sets the pipe parameters then calls the super cool MetaGridSearch \n",
    "\n",
    "All the metrics for the model evaluation are returned in a dataframe which is written to file for easy comparison across models"
   ]
  },
  {
   "cell_type": "code",
   "execution_count": 9,
   "id": "fc63e979-2cfa-4b12-a0fa-75760dd61107",
   "metadata": {},
   "outputs": [
    {
     "name": "stdout",
     "output_type": "stream",
     "text": [
      "Loop: 1 out of 9\n",
      "Fitting 5 folds for each of 2 candidates, totalling 10 fits\n",
      "Time taken: 6.325897932052612 secs\n",
      "Loop: 2 out of 9\n",
      "Fitting 5 folds for each of 2 candidates, totalling 10 fits\n",
      "Time taken: 3.79318904876709 secs\n",
      "Loop: 3 out of 9\n",
      "Fitting 5 folds for each of 2 candidates, totalling 10 fits\n",
      "Time taken: 2.2256717681884766 secs\n",
      "Loop: 4 out of 9\n",
      "Fitting 5 folds for each of 2 candidates, totalling 10 fits\n",
      "Time taken: 16.04504704475403 secs\n",
      "Loop: 5 out of 9\n",
      "Fitting 5 folds for each of 2 candidates, totalling 10 fits\n",
      "Time taken: 11.900453090667725 secs\n",
      "Loop: 6 out of 9\n",
      "Fitting 5 folds for each of 2 candidates, totalling 10 fits\n",
      "Time taken: 6.834589004516602 secs\n",
      "Loop: 7 out of 9\n",
      "Fitting 5 folds for each of 2 candidates, totalling 10 fits\n",
      "Time taken: 16.416369915008545 secs\n",
      "Loop: 8 out of 9\n",
      "Fitting 5 folds for each of 2 candidates, totalling 10 fits\n",
      "Time taken: 12.695267915725708 secs\n",
      "Loop: 9 out of 9\n",
      "Fitting 5 folds for each of 2 candidates, totalling 10 fits\n"
     ]
    },
    {
     "name": "stderr",
     "output_type": "stream",
     "text": [
      "/Users/sarniraj/opt/anaconda3/lib/python3.8/site-packages/sklearn/feature_extraction/text.py:396: UserWarning: Your stop_words may be inconsistent with your preprocessing. Tokenizing the stop words generated tokens ['running'] not in stop_words.\n",
      "  warnings.warn(\n"
     ]
    },
    {
     "name": "stdout",
     "output_type": "stream",
     "text": [
      "Time taken: 7.4955010414123535 secs\n",
      "Done!\n",
      "Loop: 1 out of 2\n",
      "Fitting 5 folds for each of 2 candidates, totalling 10 fits\n",
      "Time taken: 16.46951699256897 secs\n",
      "Loop: 2 out of 2\n",
      "Fitting 5 folds for each of 2 candidates, totalling 10 fits\n",
      "Time taken: 12.657367944717407 secs\n",
      "Done!\n"
     ]
    }
   ],
   "source": [
    "\n",
    "# This is for RandomForest, but can be easily used for any Estimator/Pipeline\n",
    "\n",
    "cvec_idf_rf_pipe = Pipeline([\n",
    "    ('cvec', CountVectorizer()),\n",
    "    ('tfidf' , TfidfTransformer()),\n",
    "    ('rf', RandomForestClassifier(random_state=42))\n",
    "])\n",
    "\n",
    "pipe_params = {\n",
    "\n",
    "#        'cvec__ngram_range' : [(1, 3), (1, 2)],\n",
    "# optimal params\n",
    "        'cvec__max_df' : [ 0.97],\n",
    "        'cvec__max_features' : [ 4000],    \n",
    "        'cvec__min_df' : [ 2], \n",
    "        'cvec__stop_words' : [\"english\"],  # This is overridden by MetaGridSearch\n",
    "        'rf__ccp_alpha': [ 0.0001, 0.001],    \n",
    "        'rf__max_depth' : [ 70],\n",
    "        'rf__min_samples_leaf': [ 1], \n",
    "        'rf__min_samples_split': [ 3],\n",
    "        'tfidf__use_idf': [True]\n",
    "\n",
    "}\n",
    "\n",
    "# call the meta function to iterate over all combinations\n",
    "\n",
    "full_results_df = MetaGridSearch(cvec_idf_rf_pipe, pipe_params, best = False)\n",
    "\n",
    "# add the model name to easily combine all the files later\n",
    "\n",
    "full_results_df[\"Model\"]= [\"RandomForest\"]*len(full_results_df)\n",
    "\n",
    "# save the Random Forest classification metric results to file. \n",
    "full_results_df.to_csv(\"../data/rf_results_df.csv\")\n",
    "#full_results_df\n",
    "\n",
    "# Now also do just for the best params so we can deep dive \n",
    "best_full_results_df = MetaGridSearch(cvec_idf_rf_pipe, pipe_params, best = True)\n",
    "\n",
    "# Make a copy of X_train, X_test, y_train, y_test, gs for our deep dive. From these, we can do all our deep dive. \n",
    "# Ideally I wanted to do all the deep dive in a different notebook, but then it was getting complicated with \n",
    "# either creating python scripts where these functions could be accessed or I have to pickle these best dataframes \n",
    "# and read them from the other notebook. So, for now, will use these best_dfs in this notebook itself\n",
    "# The good news is that there is only one copy of the code and it's being re-used quite elegantly (if I may so myself)\n",
    "\n",
    "best_rf_X_train = X_train.copy()\n",
    "best_rf_X_test = X_test.copy()\n",
    "best_rf_y_train = y_train.copy()\n",
    "best_rf_y_test = y_test.copy()\n",
    "\n",
    "best_rf_gs = gs_list.copy()\n",
    "\n",
    "\n",
    "\n"
   ]
  },
  {
   "cell_type": "code",
   "execution_count": 10,
   "id": "46906729-b7e3-47a2-8904-bc293fd1a02d",
   "metadata": {},
   "outputs": [],
   "source": [
    "# Check params\n",
    "#print( f\"Best Params: \\n{gs.best_params_}\\n\" )\n",
    "#print( f\"Best Score: \\n{gs.best_score_}\\n\" )\n",
    "\n",
    "#gs.get_params"
   ]
  },
  {
   "cell_type": "markdown",
   "id": "37edae19-31d0-4712-96d0-a3080e7eed27",
   "metadata": {},
   "source": [
    "#### And equally easily, do for SVC!!"
   ]
  },
  {
   "cell_type": "markdown",
   "id": "6eee8770-d12a-44a3-8429-ddfdbbbe121e",
   "metadata": {},
   "source": [
    "\n",
    "#### Just need to set the params specific to this classifier and the metrics are available in file and in a df for convenient access"
   ]
  },
  {
   "cell_type": "code",
   "execution_count": 11,
   "id": "705eda42-c422-49bd-92a2-14ba19660cd0",
   "metadata": {},
   "outputs": [
    {
     "name": "stdout",
     "output_type": "stream",
     "text": [
      "Loop: 1 out of 9\n",
      "Fitting 5 folds for each of 1 candidates, totalling 5 fits\n"
     ]
    },
    {
     "name": "stderr",
     "output_type": "stream",
     "text": [
      "/Users/sarniraj/opt/anaconda3/lib/python3.8/site-packages/sklearn/svm/_base.py:284: ConvergenceWarning: Solver terminated early (max_iter=5000).  Consider pre-processing your data with StandardScaler or MinMaxScaler.\n",
      "  warnings.warn(\n"
     ]
    },
    {
     "name": "stdout",
     "output_type": "stream",
     "text": [
      "Time taken: 21.91363501548767 secs\n",
      "Loop: 2 out of 9\n",
      "Fitting 5 folds for each of 1 candidates, totalling 5 fits\n"
     ]
    },
    {
     "name": "stderr",
     "output_type": "stream",
     "text": [
      "/Users/sarniraj/opt/anaconda3/lib/python3.8/site-packages/sklearn/svm/_base.py:284: ConvergenceWarning: Solver terminated early (max_iter=5000).  Consider pre-processing your data with StandardScaler or MinMaxScaler.\n",
      "  warnings.warn(\n"
     ]
    },
    {
     "name": "stdout",
     "output_type": "stream",
     "text": [
      "Time taken: 19.742978811264038 secs\n",
      "Loop: 3 out of 9\n",
      "Fitting 5 folds for each of 1 candidates, totalling 5 fits\n"
     ]
    },
    {
     "name": "stderr",
     "output_type": "stream",
     "text": [
      "/Users/sarniraj/opt/anaconda3/lib/python3.8/site-packages/sklearn/svm/_base.py:284: ConvergenceWarning: Solver terminated early (max_iter=5000).  Consider pre-processing your data with StandardScaler or MinMaxScaler.\n",
      "  warnings.warn(\n"
     ]
    },
    {
     "name": "stdout",
     "output_type": "stream",
     "text": [
      "Time taken: 16.00813603401184 secs\n",
      "Loop: 4 out of 9\n",
      "Fitting 5 folds for each of 1 candidates, totalling 5 fits\n"
     ]
    },
    {
     "name": "stderr",
     "output_type": "stream",
     "text": [
      "/Users/sarniraj/opt/anaconda3/lib/python3.8/site-packages/sklearn/svm/_base.py:284: ConvergenceWarning: Solver terminated early (max_iter=5000).  Consider pre-processing your data with StandardScaler or MinMaxScaler.\n",
      "  warnings.warn(\n"
     ]
    },
    {
     "name": "stdout",
     "output_type": "stream",
     "text": [
      "Time taken: 99.6763699054718 secs\n",
      "Loop: 5 out of 9\n",
      "Fitting 5 folds for each of 1 candidates, totalling 5 fits\n"
     ]
    },
    {
     "name": "stderr",
     "output_type": "stream",
     "text": [
      "/Users/sarniraj/opt/anaconda3/lib/python3.8/site-packages/sklearn/svm/_base.py:284: ConvergenceWarning: Solver terminated early (max_iter=5000).  Consider pre-processing your data with StandardScaler or MinMaxScaler.\n",
      "  warnings.warn(\n"
     ]
    },
    {
     "name": "stdout",
     "output_type": "stream",
     "text": [
      "Time taken: 75.01432180404663 secs\n",
      "Loop: 6 out of 9\n",
      "Fitting 5 folds for each of 1 candidates, totalling 5 fits\n"
     ]
    },
    {
     "name": "stderr",
     "output_type": "stream",
     "text": [
      "/Users/sarniraj/opt/anaconda3/lib/python3.8/site-packages/sklearn/svm/_base.py:284: ConvergenceWarning: Solver terminated early (max_iter=5000).  Consider pre-processing your data with StandardScaler or MinMaxScaler.\n",
      "  warnings.warn(\n"
     ]
    },
    {
     "name": "stdout",
     "output_type": "stream",
     "text": [
      "Time taken: 45.50762605667114 secs\n",
      "Loop: 7 out of 9\n",
      "Fitting 5 folds for each of 1 candidates, totalling 5 fits\n"
     ]
    },
    {
     "name": "stderr",
     "output_type": "stream",
     "text": [
      "/Users/sarniraj/opt/anaconda3/lib/python3.8/site-packages/sklearn/svm/_base.py:284: ConvergenceWarning: Solver terminated early (max_iter=5000).  Consider pre-processing your data with StandardScaler or MinMaxScaler.\n",
      "  warnings.warn(\n"
     ]
    },
    {
     "name": "stdout",
     "output_type": "stream",
     "text": [
      "Time taken: 100.71134424209595 secs\n",
      "Loop: 8 out of 9\n",
      "Fitting 5 folds for each of 1 candidates, totalling 5 fits\n"
     ]
    },
    {
     "name": "stderr",
     "output_type": "stream",
     "text": [
      "/Users/sarniraj/opt/anaconda3/lib/python3.8/site-packages/sklearn/svm/_base.py:284: ConvergenceWarning: Solver terminated early (max_iter=5000).  Consider pre-processing your data with StandardScaler or MinMaxScaler.\n",
      "  warnings.warn(\n"
     ]
    },
    {
     "name": "stdout",
     "output_type": "stream",
     "text": [
      "Time taken: 77.25981998443604 secs\n",
      "Loop: 9 out of 9\n",
      "Fitting 5 folds for each of 1 candidates, totalling 5 fits\n"
     ]
    },
    {
     "name": "stderr",
     "output_type": "stream",
     "text": [
      "/Users/sarniraj/opt/anaconda3/lib/python3.8/site-packages/sklearn/feature_extraction/text.py:396: UserWarning: Your stop_words may be inconsistent with your preprocessing. Tokenizing the stop words generated tokens ['running'] not in stop_words.\n",
      "  warnings.warn(\n",
      "/Users/sarniraj/opt/anaconda3/lib/python3.8/site-packages/sklearn/svm/_base.py:284: ConvergenceWarning: Solver terminated early (max_iter=5000).  Consider pre-processing your data with StandardScaler or MinMaxScaler.\n",
      "  warnings.warn(\n"
     ]
    },
    {
     "name": "stdout",
     "output_type": "stream",
     "text": [
      "Time taken: 48.294241189956665 secs\n",
      "Done!\n",
      "Loop: 1 out of 2\n",
      "Fitting 5 folds for each of 1 candidates, totalling 5 fits\n"
     ]
    },
    {
     "name": "stderr",
     "output_type": "stream",
     "text": [
      "/Users/sarniraj/opt/anaconda3/lib/python3.8/site-packages/sklearn/svm/_base.py:284: ConvergenceWarning: Solver terminated early (max_iter=5000).  Consider pre-processing your data with StandardScaler or MinMaxScaler.\n",
      "  warnings.warn(\n"
     ]
    },
    {
     "name": "stdout",
     "output_type": "stream",
     "text": [
      "Time taken: 96.98683166503906 secs\n",
      "Loop: 2 out of 2\n",
      "Fitting 5 folds for each of 1 candidates, totalling 5 fits\n"
     ]
    },
    {
     "name": "stderr",
     "output_type": "stream",
     "text": [
      "/Users/sarniraj/opt/anaconda3/lib/python3.8/site-packages/sklearn/svm/_base.py:284: ConvergenceWarning: Solver terminated early (max_iter=5000).  Consider pre-processing your data with StandardScaler or MinMaxScaler.\n",
      "  warnings.warn(\n"
     ]
    },
    {
     "name": "stdout",
     "output_type": "stream",
     "text": [
      "Time taken: 76.19728493690491 secs\n",
      "Done!\n"
     ]
    }
   ],
   "source": [
    "# SVC \n",
    "\n",
    "cvec_idf_pipe = Pipeline([\n",
    "    ('cvec', CountVectorizer()),\n",
    "    ('tfidf' , TfidfTransformer()),\n",
    "    ('svc', SVC(random_state=42, max_iter=5000))\n",
    "])\n",
    "\n",
    "\n",
    "# Search over the following values of hyperparameters:\n",
    "pipe_params = {\n",
    "\n",
    "# optimal params\n",
    "        'cvec__max_df' : [ 0.97],\n",
    "        'cvec__max_features' : [ 4000],    \n",
    "        'cvec__min_df' : [ 2 ], \n",
    "        'cvec__stop_words' : ['english'], # this gets overridden in MetaGridSearch\n",
    "    \n",
    "        'svc__C': [0.8889],\n",
    "        'svc__degree' : [2 ],\n",
    "        'svc__kernel' : [ 'sigmoid'],\n",
    "        'svc__probability' : [ True ],    \n",
    "        'tfidf__use_idf': [True]\n",
    "\n",
    "}\n",
    "\n",
    "\n",
    "# call the meta function \n",
    "\n",
    "svc_full_results_df = MetaGridSearch(cvec_idf_pipe, pipe_params)\n",
    "\n",
    "# add the model name to easily combine all the files later\n",
    "\n",
    "svc_full_results_df[\"Model\"]= [\"SVC\"]*len(svc_full_results_df)\n",
    "\n",
    "\n",
    "# save the ExtraTrees results to (a different) file. \n",
    "svc_full_results_df.to_csv(\"../data/svc_results_df.csv\")\n",
    "#svc_full_results_df\n",
    "\n",
    "# Now also do just for the best params so we can deep dive \n",
    "best_svc_full_results_df = MetaGridSearch(cvec_idf_pipe, pipe_params, best = True)\n",
    "\n",
    "# Make a copy of X_train, X_test, y_train, y_test, gs for our deep dive. From these, we can do all our deep dive. \n",
    "# Ideally I wanted to do all the deep dive in a different notebook, but then it was getting complicated with \n",
    "# either creating python scripts where these functions could be accessed or I have to pickle these best dataframes \n",
    "# and read them from the other notebook. So, for now, will use these best_dfs in this notebook itself\n",
    "# The good news is that there is only one copy of the code and it's being re-used quite elegantly (if I may so myself)\n",
    "\n",
    "best_svc_X_train = X_train.copy()\n",
    "best_svc_X_test = X_test.copy()\n",
    "best_svc_y_train = y_train.copy()\n",
    "best_svc_y_test = y_test.copy()\n",
    "\n",
    "best_svc_gs = gs_list.copy()\n",
    "\n",
    "\n",
    "\n"
   ]
  },
  {
   "cell_type": "markdown",
   "id": "6dc5bee6-8758-4e86-854e-448c82cabc0e",
   "metadata": {},
   "source": [
    "#### Similarly, do for KNN!!"
   ]
  },
  {
   "cell_type": "code",
   "execution_count": 12,
   "id": "e57ff30f-f729-45a0-a222-99a833f0d32d",
   "metadata": {},
   "outputs": [
    {
     "name": "stdout",
     "output_type": "stream",
     "text": [
      "Loop: 1 out of 9\n",
      "Fitting 5 folds for each of 6 candidates, totalling 30 fits\n",
      "Time taken: 4.81593918800354 secs\n",
      "Loop: 2 out of 9\n",
      "Fitting 5 folds for each of 6 candidates, totalling 30 fits\n",
      "Time taken: 5.079097032546997 secs\n",
      "Loop: 3 out of 9\n",
      "Fitting 5 folds for each of 6 candidates, totalling 30 fits\n",
      "Time taken: 3.827448844909668 secs\n",
      "Loop: 4 out of 9\n",
      "Fitting 5 folds for each of 6 candidates, totalling 30 fits\n",
      "Time taken: 15.309106826782227 secs\n",
      "Loop: 5 out of 9\n",
      "Fitting 5 folds for each of 6 candidates, totalling 30 fits\n",
      "Time taken: 11.59425401687622 secs\n",
      "Loop: 6 out of 9\n",
      "Fitting 5 folds for each of 6 candidates, totalling 30 fits\n",
      "Time taken: 9.58463716506958 secs\n",
      "Loop: 7 out of 9\n",
      "Fitting 5 folds for each of 6 candidates, totalling 30 fits\n",
      "Time taken: 14.126121044158936 secs\n",
      "Loop: 8 out of 9\n",
      "Fitting 5 folds for each of 6 candidates, totalling 30 fits\n",
      "Time taken: 11.99202013015747 secs\n",
      "Loop: 9 out of 9\n",
      "Fitting 5 folds for each of 6 candidates, totalling 30 fits\n"
     ]
    },
    {
     "name": "stderr",
     "output_type": "stream",
     "text": [
      "/Users/sarniraj/opt/anaconda3/lib/python3.8/site-packages/sklearn/feature_extraction/text.py:396: UserWarning: Your stop_words may be inconsistent with your preprocessing. Tokenizing the stop words generated tokens ['running'] not in stop_words.\n",
      "  warnings.warn(\n"
     ]
    },
    {
     "name": "stdout",
     "output_type": "stream",
     "text": [
      "Time taken: 10.395648956298828 secs\n",
      "Done!\n"
     ]
    }
   ],
   "source": [
    "# KNN \n",
    "\n",
    "\n",
    "\n",
    "cvec_idf_pipe = Pipeline([\n",
    "    ('cvec', CountVectorizer()),\n",
    "    ('tfidf' , TfidfTransformer()),\n",
    "    ('knn', KNeighborsClassifier())\n",
    "])\n",
    "\n",
    "\n",
    "# Search over the following values of hyperparameters:\n",
    "pipe_params = {\n",
    "\n",
    "# optimal params\n",
    "        'cvec__max_df' : [ 0.97],\n",
    "        'cvec__max_features' : [ 6000],    \n",
    "        'cvec__min_df' : [ 2 ], \n",
    "        'cvec__stop_words' : ['english'], # this gets overridden in MetaGridSearch\n",
    "\n",
    "        'knn__n_neighbors': [ 11, 25, 35 ], # from optimaizing on KNN \n",
    "        'knn__weights' : [\"uniform\", \"distance\"],\n",
    "\n",
    "        'tfidf__use_idf': [True]\n",
    "}\n",
    "\n",
    "# call the meta funct../data/\n",
    "\n",
    "knn_full_results_df = MetaGridSearch(cvec_idf_pipe, pipe_params)\n",
    "\n",
    "# add the model name to easily combine all the files later\n",
    "\n",
    "knn_full_results_df[\"Model\"]= [\"KNN\"]*len(knn_full_results_df)\n",
    "\n",
    "\n",
    "# save the KNN results to (a different) file. \n",
    "knn_full_results_df.to_csv(\"../data/knn_results_df.csv\")\n",
    "#knn_full_results_df\n",
    "\n",
    "# Not doing a deep dive on KNN, so don't need to save details for the best set of params\n",
    "best_knn_X_train = X_train.copy()\n",
    "best_knn_X_test = X_test.copy()\n",
    "best_knn_y_train = y_train.copy()\n",
    "best_knn_y_test = y_test.copy()\n",
    "\n",
    "best_knn_gs = gs_list.copy()\n",
    "\n",
    "\n"
   ]
  },
  {
   "cell_type": "markdown",
   "id": "c487ab8c-46b5-4742-bcbe-30d7a16b135d",
   "metadata": {},
   "source": [
    "#### And finally do for ExtremeTreesClassifier\n"
   ]
  },
  {
   "cell_type": "code",
   "execution_count": 13,
   "id": "f3b19bd4-26a6-455f-aa5a-76e721ed474a",
   "metadata": {},
   "outputs": [
    {
     "name": "stdout",
     "output_type": "stream",
     "text": [
      "Loop: 1 out of 9\n",
      "Fitting 5 folds for each of 2 candidates, totalling 10 fits\n",
      "Time taken: 4.324684143066406 secs\n",
      "Loop: 2 out of 9\n",
      "Fitting 5 folds for each of 2 candidates, totalling 10 fits\n",
      "Time taken: 3.342918872833252 secs\n",
      "Loop: 3 out of 9\n",
      "Fitting 5 folds for each of 2 candidates, totalling 10 fits\n",
      "Time taken: 2.6245927810668945 secs\n",
      "Loop: 4 out of 9\n",
      "Fitting 5 folds for each of 2 candidates, totalling 10 fits\n",
      "Time taken: 17.196267127990723 secs\n",
      "Loop: 5 out of 9\n",
      "Fitting 5 folds for each of 2 candidates, totalling 10 fits\n",
      "Time taken: 11.726964950561523 secs\n",
      "Loop: 6 out of 9\n",
      "Fitting 5 folds for each of 2 candidates, totalling 10 fits\n",
      "Time taken: 6.324448823928833 secs\n",
      "Loop: 7 out of 9\n",
      "Fitting 5 folds for each of 2 candidates, totalling 10 fits\n",
      "Time taken: 17.378670692443848 secs\n",
      "Loop: 8 out of 9\n",
      "Fitting 5 folds for each of 2 candidates, totalling 10 fits\n",
      "Time taken: 12.220415115356445 secs\n",
      "Loop: 9 out of 9\n",
      "Fitting 5 folds for each of 2 candidates, totalling 10 fits\n"
     ]
    },
    {
     "name": "stderr",
     "output_type": "stream",
     "text": [
      "/Users/sarniraj/opt/anaconda3/lib/python3.8/site-packages/sklearn/feature_extraction/text.py:396: UserWarning: Your stop_words may be inconsistent with your preprocessing. Tokenizing the stop words generated tokens ['running'] not in stop_words.\n",
      "  warnings.warn(\n"
     ]
    },
    {
     "name": "stdout",
     "output_type": "stream",
     "text": [
      "Time taken: 6.772181034088135 secs\n",
      "Done!\n"
     ]
    }
   ],
   "source": [
    "# ExtremeTrees \n",
    "\n",
    "\n",
    "cvec_idf_rf_pipe = Pipeline([\n",
    "    ('cvec', CountVectorizer()),\n",
    "    ('tfidf' , TfidfTransformer()),\n",
    "    ('et', ExtraTreesClassifier(random_state=42))\n",
    "])\n",
    "\n",
    "pipe_params = {\n",
    "\n",
    "# optimal params\n",
    "        'cvec__max_df' : [ 0.97],\n",
    "        'cvec__max_features' : [ 4000],    \n",
    "        'cvec__min_df' : [ 2], \n",
    "        'cvec__stop_words' : [\"english\"],  # This is overridden by MetaGridSearch\n",
    "\n",
    "        'et__ccp_alpha': [ 0.0001, 0.001],    \n",
    "        'et__max_depth' : [ 70],\n",
    "        'et__min_samples_leaf': [ 1], \n",
    "        'et__min_samples_split': [ 3],\n",
    "        'tfidf__use_idf': [True]\n",
    "\n",
    "}\n",
    "\n",
    "# call the meta function \n",
    "\n",
    "et_full_results_df = MetaGridSearch(cvec_idf_rf_pipe, pipe_params)\n",
    "\n",
    "# add the model name to easily combine all the files later\n",
    "\n",
    "et_full_results_df[\"Model\"]= [\"ExtraTrees\"]*len(et_full_results_df)\n",
    "\n",
    "# save the ExtraTrees results to (a different) file. \n",
    "et_full_results_df.to_csv(\"../data/et_results_df.csv\")\n",
    "#et_full_results_df\n",
    "\n",
    "\n"
   ]
  },
  {
   "cell_type": "code",
   "execution_count": 14,
   "id": "846da194-50e2-470f-a6d9-e39239cd415d",
   "metadata": {},
   "outputs": [],
   "source": [
    "#knn_full_results_df"
   ]
  },
  {
   "cell_type": "code",
   "execution_count": 15,
   "id": "ef4c518c-d018-4635-9677-084a59de51e8",
   "metadata": {},
   "outputs": [],
   "source": [
    "#et_full_results_df"
   ]
  },
  {
   "cell_type": "code",
   "execution_count": 16,
   "id": "13e331a2-2dd4-4702-97a1-c23fb111da7c",
   "metadata": {},
   "outputs": [],
   "source": [
    "#full_results_df"
   ]
  },
  {
   "cell_type": "markdown",
   "id": "57275e13-bbee-4bc3-b6b7-609cf78df681",
   "metadata": {},
   "source": [
    "## Now we have all our models done and have preserved the classification metrics. We'll do the model comparison in a different notebook. \n",
    "\n",
    "Let's do a deep dive on 2 models"
   ]
  },
  {
   "cell_type": "markdown",
   "id": "867f89af-2b7c-4ca6-a20e-2e7e16038c39",
   "metadata": {},
   "source": [
    "## Deep Dive on Random Forest <a class=\"anchor\" id=\"Deep-Dive-on-Random-Forest \"></a>"
   ]
  },
  {
   "cell_type": "markdown",
   "id": "22316e77-ab27-46e2-ac32-60613a52ad78",
   "metadata": {},
   "source": [
    "#### Hyperparam tuning: \n",
    "This was the range of hyperparameters tried out. And yes, it was over multiple iterations spanning many many hours! \n",
    "\n",
    "        'cvec__max_df' : [ 0.97, 0.96, 0.95, 0.93, 0.90],\n",
    "        'cvec__max_features' : [ 2000, 2500, 3000, 3600, 4400, 4800, 5000],    \n",
    "        'cvec__min_df' : [ 2, 3], \n",
    "        'cvec__ngram_range' : [(1, 3), (1, 2)],\n",
    "        'rf__ccp_alpha': [0.001, 0.0001, 0.01],    \n",
    "        'rf__max_depth' : [ 5, 10, 30, 70, 100, 160, 250],\n",
    "        'rf__min_samples_leaf': [ 1, 2, 3], \n",
    "        'rf__min_samples_split': [ 2,3],\n",
    "        'tfidf__use_idf': [True, False]\n",
    "\n"
   ]
  },
  {
   "cell_type": "code",
   "execution_count": 17,
   "id": "21a4955e-f1c8-4924-8c62-10a24f776ec3",
   "metadata": {},
   "outputs": [
    {
     "data": {
      "text/plain": [
       "{'cvec__max_df': 0.97,\n",
       " 'cvec__max_features': 4000,\n",
       " 'cvec__min_df': 2,\n",
       " 'cvec__stop_words': 'english',\n",
       " 'rf__ccp_alpha': 0.0001,\n",
       " 'rf__max_depth': 70,\n",
       " 'rf__min_samples_leaf': 1,\n",
       " 'rf__min_samples_split': 3,\n",
       " 'tfidf__use_idf': True}"
      ]
     },
     "execution_count": 17,
     "metadata": {},
     "output_type": "execute_result"
    }
   ],
   "source": [
    "# These are the best params from all the above iterations: \n",
    "\n",
    "best_rf_gs[0].best_params_"
   ]
  },
  {
   "cell_type": "markdown",
   "id": "e3cddc2a-d6b5-4eb9-abdf-7f9baf118e72",
   "metadata": {},
   "source": [
    "#### With the Top 100 stop words, we used the same params.   \n",
    "#### **Note: max_depth is 70, and min_samples_leaf is 1.**\n",
    "You would expect the model to be super overfit, but due to our pre-processing it is not! \n",
    "\n"
   ]
  },
  {
   "cell_type": "markdown",
   "id": "f278ff84-71a0-4ba7-8656-6f9360947466",
   "metadata": {},
   "source": [
    "#### Let's look at the results and draw ConfusionMatrix and analyze the Training/Test scores and other scores"
   ]
  },
  {
   "cell_type": "code",
   "execution_count": 18,
   "id": "dea365b3-3fa7-422c-875c-e02ca96f9652",
   "metadata": {},
   "outputs": [
    {
     "data": {
      "text/html": [
       "<div>\n",
       "<style scoped>\n",
       "    .dataframe tbody tr th:only-of-type {\n",
       "        vertical-align: middle;\n",
       "    }\n",
       "\n",
       "    .dataframe tbody tr th {\n",
       "        vertical-align: top;\n",
       "    }\n",
       "\n",
       "    .dataframe thead th {\n",
       "        text-align: right;\n",
       "    }\n",
       "</style>\n",
       "<table border=\"1\" class=\"dataframe\">\n",
       "  <thead>\n",
       "    <tr style=\"text-align: right;\">\n",
       "      <th></th>\n",
       "      <th>Reddit Text Type</th>\n",
       "      <th>Stop Word Type</th>\n",
       "      <th>Baseline Score</th>\n",
       "      <th>Training Score</th>\n",
       "      <th>Test Score</th>\n",
       "      <th>Variance of Test vs Training Score</th>\n",
       "      <th>TN</th>\n",
       "      <th>FP</th>\n",
       "      <th>FN</th>\n",
       "      <th>TP</th>\n",
       "      <th>Accuracy</th>\n",
       "      <th>Sensitivity</th>\n",
       "      <th>Specificity</th>\n",
       "      <th>Precision</th>\n",
       "      <th>F1 Score</th>\n",
       "      <th>ROC AUC Score</th>\n",
       "      <th>Best Score</th>\n",
       "      <th>Model</th>\n",
       "    </tr>\n",
       "  </thead>\n",
       "  <tbody>\n",
       "    <tr>\n",
       "      <th>0</th>\n",
       "      <td>title</td>\n",
       "      <td>english</td>\n",
       "      <td>0.704161</td>\n",
       "      <td>0.873649</td>\n",
       "      <td>0.856241</td>\n",
       "      <td>1.992555</td>\n",
       "      <td>567</td>\n",
       "      <td>464</td>\n",
       "      <td>37</td>\n",
       "      <td>2417</td>\n",
       "      <td>0.856241</td>\n",
       "      <td>0.984923</td>\n",
       "      <td>0.549952</td>\n",
       "      <td>0.838945</td>\n",
       "      <td>0.906092</td>\n",
       "      <td>0.877836</td>\n",
       "      <td>0.852511</td>\n",
       "      <td>RandomForest</td>\n",
       "    </tr>\n",
       "    <tr>\n",
       "      <th>1</th>\n",
       "      <td>title</td>\n",
       "      <td>Top 100</td>\n",
       "      <td>0.704161</td>\n",
       "      <td>0.846868</td>\n",
       "      <td>0.835007</td>\n",
       "      <td>1.400497</td>\n",
       "      <td>481</td>\n",
       "      <td>550</td>\n",
       "      <td>25</td>\n",
       "      <td>2429</td>\n",
       "      <td>0.835007</td>\n",
       "      <td>0.989813</td>\n",
       "      <td>0.466537</td>\n",
       "      <td>0.815374</td>\n",
       "      <td>0.894165</td>\n",
       "      <td>0.836886</td>\n",
       "      <td>0.835868</td>\n",
       "      <td>RandomForest</td>\n",
       "    </tr>\n",
       "    <tr>\n",
       "      <th>2</th>\n",
       "      <td>title</td>\n",
       "      <td>Top 1000</td>\n",
       "      <td>0.704161</td>\n",
       "      <td>0.817217</td>\n",
       "      <td>0.812339</td>\n",
       "      <td>0.596910</td>\n",
       "      <td>387</td>\n",
       "      <td>644</td>\n",
       "      <td>10</td>\n",
       "      <td>2444</td>\n",
       "      <td>0.812339</td>\n",
       "      <td>0.995925</td>\n",
       "      <td>0.375364</td>\n",
       "      <td>0.791451</td>\n",
       "      <td>0.881992</td>\n",
       "      <td>0.759482</td>\n",
       "      <td>0.808226</td>\n",
       "      <td>RandomForest</td>\n",
       "    </tr>\n",
       "    <tr>\n",
       "      <th>3</th>\n",
       "      <td>selftext</td>\n",
       "      <td>english</td>\n",
       "      <td>0.704161</td>\n",
       "      <td>0.966619</td>\n",
       "      <td>0.894978</td>\n",
       "      <td>7.411439</td>\n",
       "      <td>736</td>\n",
       "      <td>295</td>\n",
       "      <td>71</td>\n",
       "      <td>2383</td>\n",
       "      <td>0.894978</td>\n",
       "      <td>0.971068</td>\n",
       "      <td>0.713870</td>\n",
       "      <td>0.889843</td>\n",
       "      <td>0.928683</td>\n",
       "      <td>0.924396</td>\n",
       "      <td>0.887614</td>\n",
       "      <td>RandomForest</td>\n",
       "    </tr>\n",
       "    <tr>\n",
       "      <th>4</th>\n",
       "      <td>selftext</td>\n",
       "      <td>Top 100</td>\n",
       "      <td>0.704161</td>\n",
       "      <td>0.940507</td>\n",
       "      <td>0.886657</td>\n",
       "      <td>5.725618</td>\n",
       "      <td>740</td>\n",
       "      <td>291</td>\n",
       "      <td>104</td>\n",
       "      <td>2350</td>\n",
       "      <td>0.886657</td>\n",
       "      <td>0.957620</td>\n",
       "      <td>0.717750</td>\n",
       "      <td>0.889814</td>\n",
       "      <td>0.922473</td>\n",
       "      <td>0.918552</td>\n",
       "      <td>0.879388</td>\n",
       "      <td>RandomForest</td>\n",
       "    </tr>\n",
       "    <tr>\n",
       "      <th>5</th>\n",
       "      <td>selftext</td>\n",
       "      <td>Top 1000</td>\n",
       "      <td>0.704161</td>\n",
       "      <td>0.845146</td>\n",
       "      <td>0.824677</td>\n",
       "      <td>2.421910</td>\n",
       "      <td>460</td>\n",
       "      <td>571</td>\n",
       "      <td>40</td>\n",
       "      <td>2414</td>\n",
       "      <td>0.824677</td>\n",
       "      <td>0.983700</td>\n",
       "      <td>0.446169</td>\n",
       "      <td>0.808710</td>\n",
       "      <td>0.887663</td>\n",
       "      <td>0.844507</td>\n",
       "      <td>0.817886</td>\n",
       "      <td>RandomForest</td>\n",
       "    </tr>\n",
       "    <tr>\n",
       "      <th>6</th>\n",
       "      <td>title_selftext</td>\n",
       "      <td>english</td>\n",
       "      <td>0.704161</td>\n",
       "      <td>0.974940</td>\n",
       "      <td>0.912482</td>\n",
       "      <td>6.406357</td>\n",
       "      <td>782</td>\n",
       "      <td>249</td>\n",
       "      <td>56</td>\n",
       "      <td>2398</td>\n",
       "      <td>0.912482</td>\n",
       "      <td>0.977180</td>\n",
       "      <td>0.758487</td>\n",
       "      <td>0.905931</td>\n",
       "      <td>0.940208</td>\n",
       "      <td>0.950975</td>\n",
       "      <td>0.911143</td>\n",
       "      <td>RandomForest</td>\n",
       "    </tr>\n",
       "    <tr>\n",
       "      <th>7</th>\n",
       "      <td>title_selftext</td>\n",
       "      <td>Top 100</td>\n",
       "      <td>0.704161</td>\n",
       "      <td>0.957437</td>\n",
       "      <td>0.909613</td>\n",
       "      <td>4.995005</td>\n",
       "      <td>801</td>\n",
       "      <td>230</td>\n",
       "      <td>85</td>\n",
       "      <td>2369</td>\n",
       "      <td>0.909613</td>\n",
       "      <td>0.965363</td>\n",
       "      <td>0.776916</td>\n",
       "      <td>0.911504</td>\n",
       "      <td>0.937661</td>\n",
       "      <td>0.944254</td>\n",
       "      <td>0.909613</td>\n",
       "      <td>RandomForest</td>\n",
       "    </tr>\n",
       "    <tr>\n",
       "      <th>8</th>\n",
       "      <td>title_selftext</td>\n",
       "      <td>Top 1000</td>\n",
       "      <td>0.704161</td>\n",
       "      <td>0.882066</td>\n",
       "      <td>0.865710</td>\n",
       "      <td>1.854262</td>\n",
       "      <td>586</td>\n",
       "      <td>445</td>\n",
       "      <td>23</td>\n",
       "      <td>2431</td>\n",
       "      <td>0.865710</td>\n",
       "      <td>0.990628</td>\n",
       "      <td>0.568380</td>\n",
       "      <td>0.845271</td>\n",
       "      <td>0.912195</td>\n",
       "      <td>0.892987</td>\n",
       "      <td>0.857484</td>\n",
       "      <td>RandomForest</td>\n",
       "    </tr>\n",
       "  </tbody>\n",
       "</table>\n",
       "</div>"
      ],
      "text/plain": [
       "  Reddit Text Type Stop Word Type  Baseline Score  Training Score  Test Score  \\\n",
       "0            title        english        0.704161        0.873649    0.856241   \n",
       "1            title        Top 100        0.704161        0.846868    0.835007   \n",
       "2            title       Top 1000        0.704161        0.817217    0.812339   \n",
       "3         selftext        english        0.704161        0.966619    0.894978   \n",
       "4         selftext        Top 100        0.704161        0.940507    0.886657   \n",
       "5         selftext       Top 1000        0.704161        0.845146    0.824677   \n",
       "6   title_selftext        english        0.704161        0.974940    0.912482   \n",
       "7   title_selftext        Top 100        0.704161        0.957437    0.909613   \n",
       "8   title_selftext       Top 1000        0.704161        0.882066    0.865710   \n",
       "\n",
       "   Variance of Test vs Training Score   TN   FP   FN    TP  Accuracy  \\\n",
       "0                            1.992555  567  464   37  2417  0.856241   \n",
       "1                            1.400497  481  550   25  2429  0.835007   \n",
       "2                            0.596910  387  644   10  2444  0.812339   \n",
       "3                            7.411439  736  295   71  2383  0.894978   \n",
       "4                            5.725618  740  291  104  2350  0.886657   \n",
       "5                            2.421910  460  571   40  2414  0.824677   \n",
       "6                            6.406357  782  249   56  2398  0.912482   \n",
       "7                            4.995005  801  230   85  2369  0.909613   \n",
       "8                            1.854262  586  445   23  2431  0.865710   \n",
       "\n",
       "   Sensitivity  Specificity  Precision  F1 Score  ROC AUC Score  Best Score  \\\n",
       "0     0.984923     0.549952   0.838945  0.906092       0.877836    0.852511   \n",
       "1     0.989813     0.466537   0.815374  0.894165       0.836886    0.835868   \n",
       "2     0.995925     0.375364   0.791451  0.881992       0.759482    0.808226   \n",
       "3     0.971068     0.713870   0.889843  0.928683       0.924396    0.887614   \n",
       "4     0.957620     0.717750   0.889814  0.922473       0.918552    0.879388   \n",
       "5     0.983700     0.446169   0.808710  0.887663       0.844507    0.817886   \n",
       "6     0.977180     0.758487   0.905931  0.940208       0.950975    0.911143   \n",
       "7     0.965363     0.776916   0.911504  0.937661       0.944254    0.909613   \n",
       "8     0.990628     0.568380   0.845271  0.912195       0.892987    0.857484   \n",
       "\n",
       "          Model  \n",
       "0  RandomForest  \n",
       "1  RandomForest  \n",
       "2  RandomForest  \n",
       "3  RandomForest  \n",
       "4  RandomForest  \n",
       "5  RandomForest  \n",
       "6  RandomForest  \n",
       "7  RandomForest  \n",
       "8  RandomForest  "
      ]
     },
     "execution_count": 18,
     "metadata": {},
     "output_type": "execute_result"
    }
   ],
   "source": [
    "full_results_df # 9 rows for each combinaton of title, selftext and both with stop words of english, Top 100 and Top 1000\n"
   ]
  },
  {
   "cell_type": "markdown",
   "id": "9a6e0013-c0a1-438a-8f0d-ef91df9f2fb9",
   "metadata": {},
   "source": [
    "#### **Interpretation**: \n",
    "\n",
    "There's lots to look at here. \n",
    "\n",
    "The baseline score is 0.70 (majority class). \n",
    "\n",
    "The Training Score varies from 0.81 to 0.97, showing the wide impact our two pre-processing steps had! After using the finely tuned hyperparameters, we were still able to get an additional 20% improvement by using title_selftext and our Top 100 stop words list!\n",
    "\n",
    "If we had just used title as our predictor and used the default english stop words (row=0), we would have got Train/Test Scores of: 0.87 and 0.85. This is a decent score, not overfit, since we did of a lot of tuning of the hyperparameters to reduce the variance typically found in DecisionTree models. \n",
    "\n",
    "With continuing to use Stop Word Type of english (row=6) and changing from title to to title_selftext, we see a marked improvement. \n",
    "The Training score is higher at 0.97, but the gap with the Testing score of 0.91 is a bit high, indicating this model is a bit overfit. This intuitively makes sense because we have a much larger corpus so it can easily get great accuracy (the optimal max_depth is 70, it got better Training highers at higher max_depths, but it also got more overfit, so I capped it at 70). \n",
    "\n",
    "With the Stop Word Type of Top 100 (**<font color=\"green\"> row=7, optimal</font>**), the Training Score of 0.96 is slightly lower meaning a little less accuracy, but the Test Score of 0.91 is closer. So, it is less overfit and should be able to do a better job with  predicting on new unseen data. \n",
    "\n",
    "We are willing to increase the bias to reduce the variance to make better predictions. \n",
    "\n",
    "We did great on improving accuracy as well as reducing the variance. That's not all. Let's check more metrics\n"
   ]
  },
  {
   "cell_type": "markdown",
   "id": "d2f06fc6-5522-4080-a119-b9f0842a94ef",
   "metadata": {},
   "source": [
    "#### Let's look at the Confusion Matrix"
   ]
  },
  {
   "cell_type": "code",
   "execution_count": 19,
   "id": "ba1b1dc9-1823-45e5-b12d-f45630af9ae5",
   "metadata": {},
   "outputs": [
    {
     "data": {
      "image/png": "[encoded data removed]",
      "text/plain": [
       "<Figure size 432x288 with 2 Axes>"
      ]
     },
     "metadata": {
      "needs_background": "light"
     },
     "output_type": "display_data"
    }
   ],
   "source": [
    "best_rf_preds = best_rf_gs[1].predict(best_rf_X_test)\n",
    "\n",
    "best_rf_cm = confusion_matrix(best_rf_y_test, best_rf_preds)\n",
    "\n",
    "best_rf_cm_disp = ConfusionMatrixDisplay(best_rf_cm, display_labels=[\"C25K\", \"running\"])\n",
    "best_rf_cm_disp.plot(cmap = \"BuGn\");"
   ]
  },
  {
   "cell_type": "markdown",
   "id": "bf6a8a55-dfae-4e7c-9250-73f85964718a",
   "metadata": {},
   "source": [
    "#### **Interpretation**: \n",
    "From our optimal row=7, here are the numbers for:  \n",
    "Accuracy\tSensitivity\tSpecificity\tPrecision  \n",
    "0.909613\t0.965363\t0.776916\t0.911504\n",
    "\n",
    "All look good, Sensitivity (True positive rate aka recall) is really high. The Precison is also good, so we wont spend any time on these and will focus on Specificity.   \n",
    "The Specificity at 0.78 is not great. However, look at the range of Specificity across all the rows - we see that the lowest is 0.37 and this is the highest at 0.78. Again, we have seen a more than double improvement with our pre-processing! \n",
    "\n",
    "This is the crux of our analysis: \n",
    "We had expected to see quite poor accuracy because of the very similar nature of the 2 subreddits. Due to the insights gained during EDA, we were able to significantly improve the performance of the Random Forest model by utilizing more text and by using custom stop words. \n",
    "\n",
    "By adding the stop words common to both the subreddits,  we are able to separate the classes significantly. \n",
    "\n",
    "Interestingly, **75 words out of the top 100 are the common across both subreddits and 689 out of top 1000 are common in both!** No wonder classification is hard. \n",
    "\n",
    "Another interesting point to note: You'd think that adding more words to the stop words would be better. It does remove the overfit entirely at the cost of lower accuracy and lower Specificity. See the output of the below cell, the Training and Test scores drop (about 7%, and there is almost no overfit), **BUT the specificity drops tremendously** as our False Positives double. \n",
    "\n",
    "**We need to figure out what metric matters the most to us, if we are wiling to live with a larger number of False Positives maybe we go with lower accuracy but very low variance (less than 2%)**\n",
    "\n",
    "Maybe we need to tune our pseudo-hyper-parameter some more and try Top 300 or Top 500 or...."
   ]
  },
  {
   "cell_type": "code",
   "execution_count": 20,
   "id": "4a968909-cdd7-40a1-9118-2ab364affeea",
   "metadata": {},
   "outputs": [
    {
     "data": {
      "text/html": [
       "<div>\n",
       "<style scoped>\n",
       "    .dataframe tbody tr th:only-of-type {\n",
       "        vertical-align: middle;\n",
       "    }\n",
       "\n",
       "    .dataframe tbody tr th {\n",
       "        vertical-align: top;\n",
       "    }\n",
       "\n",
       "    .dataframe thead th {\n",
       "        text-align: right;\n",
       "    }\n",
       "</style>\n",
       "<table border=\"1\" class=\"dataframe\">\n",
       "  <thead>\n",
       "    <tr style=\"text-align: right;\">\n",
       "      <th></th>\n",
       "      <th>Reddit Text Type</th>\n",
       "      <th>Stop Word Type</th>\n",
       "      <th>Training Score</th>\n",
       "      <th>Test Score</th>\n",
       "      <th>Variance of Test vs Training Score</th>\n",
       "      <th>Specificity</th>\n",
       "      <th>FP</th>\n",
       "    </tr>\n",
       "  </thead>\n",
       "  <tbody>\n",
       "    <tr>\n",
       "      <th>6</th>\n",
       "      <td>title_selftext</td>\n",
       "      <td>english</td>\n",
       "      <td>0.974940</td>\n",
       "      <td>0.912482</td>\n",
       "      <td>6.406357</td>\n",
       "      <td>0.758487</td>\n",
       "      <td>249</td>\n",
       "    </tr>\n",
       "    <tr>\n",
       "      <th>7</th>\n",
       "      <td>title_selftext</td>\n",
       "      <td>Top 100</td>\n",
       "      <td>0.957437</td>\n",
       "      <td>0.909613</td>\n",
       "      <td>4.995005</td>\n",
       "      <td>0.776916</td>\n",
       "      <td>230</td>\n",
       "    </tr>\n",
       "    <tr>\n",
       "      <th>8</th>\n",
       "      <td>title_selftext</td>\n",
       "      <td>Top 1000</td>\n",
       "      <td>0.882066</td>\n",
       "      <td>0.865710</td>\n",
       "      <td>1.854262</td>\n",
       "      <td>0.568380</td>\n",
       "      <td>445</td>\n",
       "    </tr>\n",
       "  </tbody>\n",
       "</table>\n",
       "</div>"
      ],
      "text/plain": [
       "  Reddit Text Type Stop Word Type  Training Score  Test Score  \\\n",
       "6   title_selftext        english        0.974940    0.912482   \n",
       "7   title_selftext        Top 100        0.957437    0.909613   \n",
       "8   title_selftext       Top 1000        0.882066    0.865710   \n",
       "\n",
       "   Variance of Test vs Training Score  Specificity   FP  \n",
       "6                            6.406357     0.758487  249  \n",
       "7                            4.995005     0.776916  230  \n",
       "8                            1.854262     0.568380  445  "
      ]
     },
     "execution_count": 20,
     "metadata": {},
     "output_type": "execute_result"
    }
   ],
   "source": [
    "mask = (full_results_df[\"Reddit Text Type\"] == \"title_selftext\")\n",
    "full_results_df[mask][[\"Reddit Text Type\", \"Stop Word Type\", \"Training Score\", \"Test Score\", \"Variance of Test vs Training Score\", \n",
    "                       \"Specificity\", \"FP\"]]\n"
   ]
  },
  {
   "cell_type": "markdown",
   "id": "978bf2cd-44a4-4e79-a7c6-1407673f5ee4",
   "metadata": {},
   "source": [
    "#### Let's visualize all this with some  graphs"
   ]
  },
  {
   "cell_type": "code",
   "execution_count": 21,
   "id": "58ea6048-e2fe-43eb-9dda-d17e8a9908f7",
   "metadata": {},
   "outputs": [
    {
     "data": {
      "image/png": "[encoded data removed]",
      "text/plain": [
       "<Figure size 720x360 with 3 Axes>"
      ]
     },
     "metadata": {
      "needs_background": "light"
     },
     "output_type": "display_data"
    }
   ],
   "source": [
    "mask = (full_results_df[\"Reddit Text Type\"] == \"title\")\n",
    "mask_rf_df = full_results_df[mask][[ \"Stop Word Type\", \"Training Score\", \"Test Score\",  \n",
    "                       \"Specificity\"]]\n",
    "\n",
    "\n",
    "mask = (full_results_df[\"Reddit Text Type\"] == \"title_selftext\")\n",
    "ts_mask_rf_df = full_results_df[mask][[ \"Stop Word Type\", \"Training Score\", \"Test Score\",  \n",
    "                       \"Specificity\"]]\n",
    "\n",
    "mask = (full_results_df[\"Stop Word Type\"] == \"Top 100\")\n",
    "st_mask_rf_df = full_results_df[mask][[ \"Reddit Text Type\", \"Training Score\", \"Test Score\",  \n",
    "                       \"Specificity\"]]\n",
    "\n",
    "\n",
    "\n",
    "\n",
    "plt.figure(figsize=(10,5));\n",
    "plt.suptitle( \"Random Forest: Comparison of Training, Test and Specificity Scores\")\n",
    "\n",
    "\n",
    "ax1 = plt.subplot(1, 3, 1)\n",
    "mask_rf_df.plot.bar(ax=ax1)\n",
    "\n",
    "plt.axhline(0.7, color = 'black', linestyle = '--' )\n",
    "plt.xticks([0, 1, 2 ], mask_rf_df[\"Stop Word Type\"], rotation=0);\n",
    "\n",
    "plt.ylim(0, 1.4); # to make sure the legend doesn't overlap the bars\n",
    "plt.title(\"By title\")\n",
    "\n",
    "\n",
    "ax2 = plt.subplot(1, 3, 2)\n",
    "ts_mask_rf_df.plot.bar(ax=ax2)\n",
    "\n",
    "plt.axhline(0.7, color = 'black', linestyle = '--' )\n",
    "plt.xticks([0, 1, 2 ], ts_mask_rf_df[\"Stop Word Type\"], rotation=0);\n",
    "\n",
    "plt.ylim(0, 1.4); # to make sure the legend doesn't overlap the bars\n",
    "plt.title(\"By title_selftext\")\n",
    "\n",
    "\n",
    "ax3 = plt.subplot(1, 3, 3)\n",
    "st_mask_rf_df.plot.bar(ax=ax3)\n",
    "\n",
    "plt.axhline(0.7, color = 'black', linestyle = '--' )\n",
    "plt.xticks([0, 1, 2 ], st_mask_rf_df[\"Reddit Text Type\"], rotation=0);\n",
    "\n",
    "plt.title(\"By Top 100\")\n",
    "\n",
    "\n",
    "plt.ylim(0, 1.4); # to make sure the legend doesn't overlap the bars\n",
    "\n",
    "\n",
    "plt.savefig(\"../data/rf_train_test_spec.png\")"
   ]
  },
  {
   "cell_type": "markdown",
   "id": "ff29226b-ff7a-485d-b4d5-303bb790efc3",
   "metadata": {},
   "source": [
    "#### **Interpretation**: There's lots to look at here. \n",
    "\n",
    "1. The baseline score is 0.70 (majority class) (black dotted line).  All our iterations performed significantly better than baseline.  \n",
    "\n",
    "2. The Training Score varies from 0.81 to 0.97, showing the wide impact our two pre-processing steps had! After using the finely tuned hyperparameters, we were still able to get an additional 20% improvement by using title_selftext and our Top 100 stop words list!\n",
    "\n",
    "    If we had just used title as our predictor and used the Top 100 stop words (graph 1), we would have got Train/Test Scores of: 0.87 and 0.85. This is a decent score, not overfit, since we did of a lot of tuning of the hyperparameters to reduce the variance typically found in DecisionTree models. \n",
    "\n",
    "3. When changing from title to to title_selftext (graph 2), we see a marked improvement. The Training score is higher at 0.97, but the gap with the Testing score of 0.91 is a bit high, indicating this model is a bit overfit. This intuitively makes sense because we have a much larger corpus so it can easily get great accuracy (the optimal max_depth is 70, it got better Training highers at higher max_depths, but it also got more overfit, so I capped it at 70). \n",
    "\n",
    "4. With the Stop Word Type of Top 100 (graph 3, optimal), the Training Score of 0.96 is slightly lower meaning a little less accuracy, but the Test Score of 0.91 is closer. So, it is less overfit and should be able to do a better job with  predicting on new unseen data. \n",
    "\n",
    "    We are willing to increase the bias to reduce the variance to make better predictions. \n",
    "\n",
    "    We did great on improving accuracy as well as reducing the variance. That's not all. Let's check more metrics\n",
    "\n"
   ]
  },
  {
   "cell_type": "code",
   "execution_count": 22,
   "id": "7e3899ce-5278-4da1-a9bb-9d1a5fce3608",
   "metadata": {},
   "outputs": [
    {
     "data": {
      "image/png": "[encoded data removed]",
      "text/plain": [
       "<Figure size 445x360 with 1 Axes>"
      ]
     },
     "metadata": {
      "needs_background": "light"
     },
     "output_type": "display_data"
    }
   ],
   "source": [
    "sns.catplot(data = full_results_df, kind = 'bar', x = 'Reddit Text Type', y = 'Specificity', hue = 'Stop Word Type').set(\n",
    "    title = \"RF: Variation of Specificity by Reddit Text Type and Stop Word Type\");\n",
    "\n"
   ]
  },
  {
   "cell_type": "markdown",
   "id": "8b70c95e-fd04-4089-87f4-0eac405ee570",
   "metadata": {},
   "source": [
    "#### **Interpretation**: The best Specificity at 0.78 is not great. However, look at the range of Specificity across all the rows - we see that the lowest is 0.37 and this is the highest at 0.78. Again, we have seen a more than double improvement with our pre-processing! \n",
    "\n",
    "This is the crux of our analysis: \n",
    "We had expected to see quite poor accuracy because of the very similar nature of the 2 subreddits. Due to the insights gained during EDA, we were able to significantly improve the performance of the Random Forest model by utilizing more text and by using custom stop words. \n",
    "\n",
    "By adding the stop words common to both the subreddits,  we are able to separate the classes significantly. \n",
    "\n",
    "Interestingly, **75 words out of the top 100 are the common across both subreddits and 689 out of top 1000 are common in both!** No wonder classification is hard. \n",
    "\n",
    "Another interesting point to note: You'd think that adding more words to the stop words would be better. It does remove the overfit entirely at the cost of lower accuracy and lower Specificity. See the output of the below cell, the Training and Test scores drop (about 7%, and there is almost no overfit), **BUT the specificity drops tremendously** as our False Positives double. \n",
    "\n",
    "**We need to figure out what metric matters the most to us, if we are willing to live with a larger number of False Positives maybe we go with lower accuracy but very low variance (less than 2%)**\n",
    "\n",
    "Maybe we need to tune our pseudo-hyper-parameter some more and try Top 300 or Top 500 or...."
   ]
  },
  {
   "cell_type": "code",
   "execution_count": 23,
   "id": "67ac1756-34b2-4da9-8c1a-9b99aa84e639",
   "metadata": {},
   "outputs": [
    {
     "data": {
      "image/png": "[encoded data removed]",
      "text/plain": [
       "<Figure size 445x360 with 1 Axes>"
      ]
     },
     "metadata": {
      "needs_background": "light"
     },
     "output_type": "display_data"
    }
   ],
   "source": [
    "sns.catplot(data = full_results_df, kind = 'bar', x = 'Reddit Text Type', y = 'Variance of Test vs Training Score', hue = 'Stop Word Type').set(\n",
    "    title = \"RF: Variance by Reddit Text Type and Stop Word Type\");\n",
    "\n",
    "plt.ylabel(\"Variance on Test vs Training Score (%)\");"
   ]
  },
  {
   "cell_type": "markdown",
   "id": "e3167012-8dea-4a81-b7a7-cb0fd43fa17e",
   "metadata": {},
   "source": [
    "#### **Interpretation**: If we want the least overfit model (lowest variance), we should pick the title and Stop 1000 combination. The percetage difference between the training and Test score is really low at 1.8%"
   ]
  },
  {
   "cell_type": "code",
   "execution_count": 24,
   "id": "95e6a963-f7ce-4408-a8b9-35394a109187",
   "metadata": {},
   "outputs": [
    {
     "data": {
      "text/html": [
       "<div>\n",
       "<style scoped>\n",
       "    .dataframe tbody tr th:only-of-type {\n",
       "        vertical-align: middle;\n",
       "    }\n",
       "\n",
       "    .dataframe tbody tr th {\n",
       "        vertical-align: top;\n",
       "    }\n",
       "\n",
       "    .dataframe thead th {\n",
       "        text-align: right;\n",
       "    }\n",
       "</style>\n",
       "<table border=\"1\" class=\"dataframe\">\n",
       "  <thead>\n",
       "    <tr style=\"text-align: right;\">\n",
       "      <th></th>\n",
       "      <th>Stop Word Type</th>\n",
       "      <th>Training Score</th>\n",
       "      <th>Test Score</th>\n",
       "      <th>Specificity</th>\n",
       "    </tr>\n",
       "  </thead>\n",
       "  <tbody>\n",
       "    <tr>\n",
       "      <th>0</th>\n",
       "      <td>english</td>\n",
       "      <td>0.873649</td>\n",
       "      <td>0.856241</td>\n",
       "      <td>0.549952</td>\n",
       "    </tr>\n",
       "    <tr>\n",
       "      <th>1</th>\n",
       "      <td>Top 100</td>\n",
       "      <td>0.846868</td>\n",
       "      <td>0.835007</td>\n",
       "      <td>0.466537</td>\n",
       "    </tr>\n",
       "    <tr>\n",
       "      <th>2</th>\n",
       "      <td>Top 1000</td>\n",
       "      <td>0.817217</td>\n",
       "      <td>0.812339</td>\n",
       "      <td>0.375364</td>\n",
       "    </tr>\n",
       "  </tbody>\n",
       "</table>\n",
       "</div>"
      ],
      "text/plain": [
       "  Stop Word Type  Training Score  Test Score  Specificity\n",
       "0        english        0.873649    0.856241     0.549952\n",
       "1        Top 100        0.846868    0.835007     0.466537\n",
       "2       Top 1000        0.817217    0.812339     0.375364"
      ]
     },
     "execution_count": 24,
     "metadata": {},
     "output_type": "execute_result"
    }
   ],
   "source": [
    "mask_rf_df"
   ]
  },
  {
   "cell_type": "code",
   "execution_count": null,
   "id": "5dbf030c-30a9-408c-9e29-7c8c6538291a",
   "metadata": {},
   "outputs": [],
   "source": [
    "\n"
   ]
  },
  {
   "cell_type": "code",
   "execution_count": 25,
   "id": "f15e14ce-3280-43e6-82a4-04ec12f4fdf0",
   "metadata": {},
   "outputs": [
    {
     "name": "stdout",
     "output_type": "stream",
     "text": [
      "ROC AUC Score: 0.9442538044341786\n"
     ]
    },
    {
     "data": {
      "image/png": "[encoded data removed]",
      "text/plain": [
       "<Figure size 432x288 with 1 Axes>"
      ]
     },
     "metadata": {
      "needs_background": "light"
     },
     "output_type": "display_data"
    }
   ],
   "source": [
    "# Get the predicted probabilites\n",
    "best_rf_preds_prob = best_rf_gs[1].predict_proba(best_rf_X_test)[:,1]\n",
    "\n",
    "# Plot ROC curve\n",
    "\n",
    "fpr, tpr, thresholds = roc_curve(best_rf_y_test, best_rf_preds_prob)\n",
    "plt.plot(fpr, tpr)\n",
    "plt.xlim([0.0, 1.0])\n",
    "plt.ylim([0.0, 1.0])\n",
    "plt.title('ROC curve for subreddit classifier')\n",
    "plt.xlabel('False Positive Rate (1 - Specificity)')\n",
    "plt.ylabel('True Positive Rate (Sensitivity)')\n",
    "plt.grid(True)\n",
    "plt.plot([0, 1], [0, 1],\n",
    "         label='baseline', linestyle='--')\n",
    "plt.legend();\n",
    "\n",
    "print( f\"ROC AUC Score: {roc_auc_score(best_rf_y_test, best_rf_preds_prob)}\")\n"
   ]
  },
  {
   "cell_type": "markdown",
   "id": "3b27eda0-30d8-479c-913e-8f2270571640",
   "metadata": {},
   "source": [
    "#### **Interpretation**: The ROC AUC score of 0.94 is high (close to the max of 1), as can also be seen by the area  under the curve.  \n",
    "This shows that the positive and negative classes are quite well separated after choosing title_selftext and the Top 100 stop words. \n",
    "\n"
   ]
  },
  {
   "cell_type": "markdown",
   "id": "358e06b8-05b9-4b5c-9669-a619ad6a12df",
   "metadata": {},
   "source": [
    "#### There's one more thing we should look at. \n",
    "Can we interpret anything from the predicted probabilities? \n",
    "For our predictions that are on the borderline say between 0.4 and 0.6, what can we do? Currently, we use the threshold of 0.5 and mark them as either running or c25k. \n",
    "If they are on the border, should we ask our Reddit moderators to cross-post them on both subreddits?\n"
   ]
  },
  {
   "cell_type": "code",
   "execution_count": 26,
   "id": "352158e9-7859-4bff-bec5-814131f927c7",
   "metadata": {
    "tags": []
   },
   "outputs": [],
   "source": [
    "# Let's create a dataframe called pred_df that contains:\n",
    "# 1. The true values of our test set.\n",
    "# 2. The predicted probabilities based on our model.\n",
    "\n",
    "best_rf_pred_df = pd.DataFrame({'true_values': best_rf_y_test,\n",
    "                        'pred_probs': best_rf_preds_prob})\n",
    "\n",
    "#best_rf_pred_df.head()"
   ]
  },
  {
   "cell_type": "markdown",
   "id": "a4dd38dc-bf14-41e2-9cee-86b73044ebc7",
   "metadata": {},
   "source": [
    "#### Plot distributions of predicted probabilities by actual values\n",
    "\n"
   ]
  },
  {
   "cell_type": "code",
   "execution_count": 27,
   "id": "54f01783-38b7-46c1-9043-7fbebf259b11",
   "metadata": {},
   "outputs": [
    {
     "name": "stderr",
     "output_type": "stream",
     "text": [
      "/Users/sarniraj/opt/anaconda3/lib/python3.8/site-packages/seaborn/distributions.py:2619: FutureWarning: `distplot` is a deprecated function and will be removed in a future version. Please adapt your code to use either `displot` (a figure-level function with similar flexibility) or `histplot` (an axes-level function for histograms).\n",
      "  warnings.warn(msg, FutureWarning)\n"
     ]
    },
    {
     "data": {
      "image/png": "[encoded data removed]",
      "text/plain": [
       "<Figure size 432x288 with 1 Axes>"
      ]
     },
     "metadata": {
      "needs_background": "light"
     },
     "output_type": "display_data"
    }
   ],
   "source": [
    "\n",
    "# Classification Metrics: Showing TP, TN, FP, FN on graph \n",
    "\n",
    "for group in best_rf_pred_df.groupby('true_values'):\n",
    "    sns.distplot(group[1], kde = False, bins = 20, label = f'Actual Outcome = {group[0]}')\n",
    "\n",
    "# Add cutoff line\n",
    "plt.axvline(0.5, color = 'black')\n",
    "plt.axvline(0.4, color = 'red', linestyle = '--')\n",
    "plt.axvline(0.6, color = 'red', linestyle = '--')\n",
    "\n",
    "# Add annotations for TN, FN, TP, FP.\n",
    "plt.annotate(\"TN\", xy = (0.02, 15), size = 15)\n",
    "plt.annotate(\"FN\", xy = (0.12, 0), size = 15)\n",
    "plt.annotate(\"TP\", xy = (0.85, 1), size = 15)\n",
    "plt.annotate(\"FP\", xy = (0.57, 1), size = 15)\n",
    "\n",
    "plt.xlabel('Predicted Probability that Outcome = 1', fontsize = 15)\n",
    "plt.legend(fontsize = 15);\n",
    "\n",
    "plt.savefig(\"../images/rf_crosspost.png\")"
   ]
  },
  {
   "cell_type": "markdown",
   "id": "3514d688-7a89-4a4f-8193-4d4497a04eee",
   "metadata": {},
   "source": [
    "#### **Interpretation**:   \n",
    "Orange bars to the right of 0.5 are all TP  \n",
    "Orange bars to the left of 0.5 are all FN (predicted 0, actual 1)  \n",
    "Blue bars to the left of 0.5 are the TN (predicted 0, actual 0)  \n",
    "Blue bars to the right of 0.5 are the FP (predicted 1, actual 0)  \n",
    "\n"
   ]
  },
  {
   "cell_type": "markdown",
   "id": "6470e984-5eb5-43a9-b6cd-a0932b6ecaf3",
   "metadata": {},
   "source": [
    "#### Unlike SVC, predicted probability matches with prediction. i.e. if predicted is < 0.5, predicted is 1 and vice-versa too\n"
   ]
  },
  {
   "cell_type": "code",
   "execution_count": 28,
   "id": "56cdd9b8-4f06-4b49-8bb7-43f477cbb8da",
   "metadata": {},
   "outputs": [
    {
     "name": "stdout",
     "output_type": "stream",
     "text": [
      "0 0\n"
     ]
    }
   ],
   "source": [
    "count_prob_positive = 0\n",
    "count_prob_neg = 0\n",
    "\n",
    "for i, p in enumerate( best_rf_preds ):\n",
    "    if p == 1: \n",
    "        if best_rf_preds_prob[i] < 0.5: # not fp, but similar\n",
    "#            print( i, p,  preds_prob[i],  y_test.iloc[i])\n",
    "#            print (f\"i: {i}, Predicted Prob: {round(preds_prob[i],2)}, Predicted: {preds[i]}, Actual: {y_test.iloc[i]}, Text: {X_test.iloc[i][:100]} \")\n",
    "            count_prob_positive += 1\n",
    "    else: # p = 0\n",
    "        if best_rf_preds_prob[i] > 0.5: \n",
    "            count_prob_neg += 1\n",
    "\n",
    "print( count_prob_positive, count_prob_neg )"
   ]
  },
  {
   "cell_type": "markdown",
   "id": "c7562145-bc7b-4b1b-a0bb-c15b1f8a6562",
   "metadata": {
    "tags": []
   },
   "source": [
    "#### Borderline scenario: If predicted proba is in range of 0.4 to 0.6, the classification can be considered to be non-definitive and hence can be posted in both subs"
   ]
  },
  {
   "cell_type": "code",
   "execution_count": 29,
   "id": "b1863fc5-46c8-4674-81cf-ca53f5656118",
   "metadata": {},
   "outputs": [
    {
     "name": "stdout",
     "output_type": "stream",
     "text": [
      "i: 17, Predicted Prob: 0.46, Predicted: 0, Actual: 1, Text: I've never been a runner, but yesterday I ran a mile in 10 minutes. How do I improve when my main fo \n",
      "i: 30, Predicted Prob: 0.48, Predicted: 0, Actual: 1, Text: Finally completed my first half marathon.\\nUnfortunately, I had to do this by myself since there are \n",
      "i: 48, Predicted Prob: 0.58, Predicted: 1, Actual: 0, Text: Looking for Strava clubs!.\\nHey, peeps! Anyone here walk or jog using Strava? I'm new to the app and \n",
      "i: 69, Predicted Prob: 0.41, Predicted: 0, Actual: 0, Text: Derailed by an injury.\\nI was on such a roll going into W4 and feeling strong when I tweaked my back \n",
      "i: 76, Predicted Prob: 0.54, Predicted: 1, Actual: 0, Text: W9D1 was an epic fail..\\nGot about 16 minutes into the run and had to stop to walk for 30 seconds. I \n",
      "i: 98, Predicted Prob: 0.41, Predicted: 0, Actual: 0, Text: Week 5 Day 3.\\nI did ittttt!! I jogged for 20 minutes straight!!! It was at a 2.6 speed on the tread \n",
      "i: 100, Predicted Prob: 0.4, Predicted: 0, Actual: 0, Text: I DID IT!!!.\\nI finished!!  I started on November 26th and finally finished today!  I’ve been runnin \n",
      "i: 103, Predicted Prob: 0.44, Predicted: 0, Actual: 1, Text: New to running, want to get my 5k time down, what should I do?.\\nI'm a total beginner, so would appr \n",
      "i: 107, Predicted Prob: 0.54, Predicted: 1, Actual: 1, Text: Advice for a fat runner!.\\nHey all! I took up running at the beginning of quarantine as my cardio fo \n",
      "249\n"
     ]
    }
   ],
   "source": [
    "count = 0\n",
    "for i in range(0, len(best_rf_preds_prob)):\n",
    "    if (best_rf_preds_prob[i] < 0.6) and (best_rf_preds_prob[i] > 0.4):\n",
    "        count = count + 1\n",
    "        if count < 10: #print only the first 10 to avoid clutter \n",
    "            print (f\"i: {i}, Predicted Prob: {round(best_rf_preds_prob[i],2)}, Predicted: {best_rf_preds[i]}, Actual: {y_test.iloc[i]}, Text: {X_test.iloc[i][:100]} \")\n",
    "print (count)  # 246 out of 3485 where predicted prob was in range 0.4-0.6. These can be cross-posted\n",
    "\n"
   ]
  },
  {
   "cell_type": "code",
   "execution_count": 30,
   "id": "365446af-c4ea-48e9-ac7e-d16646f140c6",
   "metadata": {},
   "outputs": [
    {
     "name": "stdout",
     "output_type": "stream",
     "text": [
      "i: 17, Predicted Prob: 0.46, Predicted: 0, Actual: 1, Text: I've never been a runner, but yesterday I ran a mile in 10 minutes. How do I improve when my main form of fitness is primarly strength?.\\nI've always hated running. I would usually be out of breath after a few seconds. A few years ago I started getting fitter and was able to run longer distances at a slow pace without getting out of breath. But after that I got injured and lost my fitness. Now I've been working out again for two years but not as hard as before because I have to be careful cause  \n"
     ]
    }
   ],
   "source": [
    "# See example of borderline predict_proba. We got this wrong and should cross-post this. \n",
    "i = 17\n",
    "print (f\"i: {i}, Predicted Prob: {round(best_rf_preds_prob[i],2)}, Predicted: {best_rf_preds[i]}, Actual: {best_rf_y_test.iloc[i]}, Text: {best_rf_X_test.iloc[i][:500]} \")\n",
    "\n"
   ]
  },
  {
   "cell_type": "markdown",
   "id": "e5dcdcbf-07fd-437a-8899-1308f782107c",
   "metadata": {},
   "source": [
    "#### **Interpretation**: Sounds like a classic example of a newbie runner. I’ve never been a runner. Our model predicted 0 (c25k) whereas it was in 1 (the running group). \n",
    "Though it seems we are wrong, if we cross-post this in the c25k group, the rookie runner will have deeper discussions with other newbie runners, increase upvotes and increase karma. \n",
    "\n",
    "This has the added advantage of reducing our False Positives and False Negatives by moving our threshold in each direction. Setting the red dotted bar to 0.4, will eliminate the above FN because it will now be posted to the c25k subreddit also. \n"
   ]
  },
  {
   "cell_type": "markdown",
   "id": "30b281ec-1dbe-45cd-beae-d08e822f5397",
   "metadata": {
    "tags": []
   },
   "source": [
    "#### Now lets look at False positives\n"
   ]
  },
  {
   "cell_type": "code",
   "execution_count": 31,
   "id": "4f63cf38-ebf4-470a-9a23-221e16021c49",
   "metadata": {
    "tags": []
   },
   "outputs": [
    {
     "data": {
      "text/plain": [
       "230"
      ]
     },
     "execution_count": 31,
     "metadata": {},
     "output_type": "execute_result"
    }
   ],
   "source": [
    "# print message text for the false positives (incorrectly classified c25k(0) as running (1)) \n",
    "\n",
    "# X_test[(y_pred_class==1) & (y_test==0)]\n",
    "len(best_rf_X_test[(best_rf_preds == 1) & (best_rf_y_test == 0)])\n",
    "##Alternatively, \n",
    "# X_test[preds > y_test]\n",
    "\n"
   ]
  },
  {
   "cell_type": "markdown",
   "id": "60c3cf71-5ff0-4074-9128-faa71abe4997",
   "metadata": {},
   "source": [
    "#### Now lets look at False Negatives\n"
   ]
  },
  {
   "cell_type": "code",
   "execution_count": 32,
   "id": "91496b8f-1b2c-4e3f-b167-fe6ad20d1b9a",
   "metadata": {},
   "outputs": [
    {
     "name": "stdout",
     "output_type": "stream",
     "text": [
      "Len = 85\n",
      "\n"
     ]
    }
   ],
   "source": [
    "# False negatives (incorrectly classified running(1) as c25k (0)) \n",
    "\n",
    "print( f\"Len = {len(best_rf_X_test[(best_rf_preds == 0) & (best_rf_y_test == 1)])}\\n\")\n",
    "\n",
    "#X_test[(preds == 0) & (y_test == 1)] # 94 False negatives, matches ConfusionMatrix\n",
    "\n",
    "##Alternatively, \n",
    "# X_test[preds < y_test]\n",
    "\n"
   ]
  },
  {
   "cell_type": "markdown",
   "id": "8862397d-f959-4d47-9dec-722f6f77d730",
   "metadata": {},
   "source": [
    "#### Yay!! Done with analysis for Random Forest\n",
    "\n"
   ]
  },
  {
   "cell_type": "markdown",
   "id": "7fedd8f8-e050-4901-a37b-43edebb5b0e6",
   "metadata": {},
   "source": [
    "## Deep Dive for Support Vector Classifier <a class=\"anchor\" id=\"Deep-Dive-for-Support-Vector-Classifier\"></a>"
   ]
  },
  {
   "cell_type": "markdown",
   "id": "62041b82-20de-41d3-8351-c9e813f7d352",
   "metadata": {},
   "source": [
    "#### Hyperparam tuning: \n",
    "This was the range of hyperparameters tried out. And yes, it was over multiple iterations spanning many many hours! SVC fits take longer than RandomForest, especially when we want to get the probability\n",
    "\n",
    "        'cvec__max_df' : [ 0.97, 0.95, 0.93, 0.90],\n",
    "        'cvec__max_features' : [ 2000, 3000, 4000, 6000, 10000],    \n",
    "        'cvec__min_df' : [ 2, 3], \n",
    "        'cvec__ngram_range' : [(1, 3), (1, 2)],\n",
    "        'cvec__stop_words' : ['english'], # this gets overridden in MetaGridSearch\n",
    "    \n",
    "        'svc__C': np.linspace(0.0001, 1, 20),\n",
    "        'svc__degree' : [1, 2 ],\n",
    "        'svc__kernel' : ['linear', 'poly', 'rbf', 'sigmoid'],\n",
    "        'svc__probability' : [ True, False ],    # takes much longer when we want to calculate probabilities\n",
    "        'tfidf__use_idf': [True, False]\n"
   ]
  },
  {
   "cell_type": "code",
   "execution_count": 33,
   "id": "ddb833a1-58b0-417e-9642-b1c4a436dfab",
   "metadata": {},
   "outputs": [
    {
     "data": {
      "text/plain": [
       "{'cvec__max_df': 0.97,\n",
       " 'cvec__max_features': 4000,\n",
       " 'cvec__min_df': 2,\n",
       " 'cvec__stop_words': 'english',\n",
       " 'svc__C': 0.8889,\n",
       " 'svc__degree': 2,\n",
       " 'svc__kernel': 'sigmoid',\n",
       " 'svc__probability': True,\n",
       " 'tfidf__use_idf': True}"
      ]
     },
     "execution_count": 33,
     "metadata": {},
     "output_type": "execute_result"
    }
   ],
   "source": [
    "# These are the best params from all the above iterations: \n",
    "\n",
    "best_svc_gs[0].best_params_"
   ]
  },
  {
   "cell_type": "code",
   "execution_count": null,
   "id": "6fcd95d2-5fc6-428a-a5c4-4207c24232ba",
   "metadata": {},
   "outputs": [],
   "source": []
  },
  {
   "cell_type": "markdown",
   "id": "9231612c-7dfd-4ab9-9523-b24ed657045b",
   "metadata": {},
   "source": [
    "#### With the Top 100 stop words, we used the same params.   \n",
    "\n"
   ]
  },
  {
   "cell_type": "markdown",
   "id": "ca566129-9076-4b59-824e-6ee6c42d07bc",
   "metadata": {},
   "source": [
    "#### Let's look at the results and draw ConfusionMatrix and analyze the Training/Test scores and other scores"
   ]
  },
  {
   "cell_type": "code",
   "execution_count": 34,
   "id": "81ab0599-e71b-49a9-a9b0-2b90fa081e5d",
   "metadata": {},
   "outputs": [
    {
     "data": {
      "text/html": [
       "<div>\n",
       "<style scoped>\n",
       "    .dataframe tbody tr th:only-of-type {\n",
       "        vertical-align: middle;\n",
       "    }\n",
       "\n",
       "    .dataframe tbody tr th {\n",
       "        vertical-align: top;\n",
       "    }\n",
       "\n",
       "    .dataframe thead th {\n",
       "        text-align: right;\n",
       "    }\n",
       "</style>\n",
       "<table border=\"1\" class=\"dataframe\">\n",
       "  <thead>\n",
       "    <tr style=\"text-align: right;\">\n",
       "      <th></th>\n",
       "      <th>Reddit Text Type</th>\n",
       "      <th>Stop Word Type</th>\n",
       "      <th>Baseline Score</th>\n",
       "      <th>Training Score</th>\n",
       "      <th>Test Score</th>\n",
       "      <th>Variance of Test vs Training Score</th>\n",
       "      <th>TN</th>\n",
       "      <th>FP</th>\n",
       "      <th>FN</th>\n",
       "      <th>TP</th>\n",
       "      <th>Accuracy</th>\n",
       "      <th>Sensitivity</th>\n",
       "      <th>Specificity</th>\n",
       "      <th>Precision</th>\n",
       "      <th>F1 Score</th>\n",
       "      <th>ROC AUC Score</th>\n",
       "      <th>Best Score</th>\n",
       "      <th>Model</th>\n",
       "    </tr>\n",
       "  </thead>\n",
       "  <tbody>\n",
       "    <tr>\n",
       "      <th>0</th>\n",
       "      <td>title</td>\n",
       "      <td>english</td>\n",
       "      <td>0.704161</td>\n",
       "      <td>0.866858</td>\n",
       "      <td>0.857389</td>\n",
       "      <td>1.092354</td>\n",
       "      <td>591</td>\n",
       "      <td>440</td>\n",
       "      <td>57</td>\n",
       "      <td>2397</td>\n",
       "      <td>0.857389</td>\n",
       "      <td>0.976773</td>\n",
       "      <td>0.573230</td>\n",
       "      <td>0.844907</td>\n",
       "      <td>0.906067</td>\n",
       "      <td>0.869383</td>\n",
       "      <td>0.858250</td>\n",
       "      <td>SVC</td>\n",
       "    </tr>\n",
       "    <tr>\n",
       "      <th>1</th>\n",
       "      <td>title</td>\n",
       "      <td>Top 100</td>\n",
       "      <td>0.704161</td>\n",
       "      <td>0.852798</td>\n",
       "      <td>0.840459</td>\n",
       "      <td>1.446837</td>\n",
       "      <td>517</td>\n",
       "      <td>514</td>\n",
       "      <td>42</td>\n",
       "      <td>2412</td>\n",
       "      <td>0.840459</td>\n",
       "      <td>0.982885</td>\n",
       "      <td>0.501455</td>\n",
       "      <td>0.824334</td>\n",
       "      <td>0.896654</td>\n",
       "      <td>0.838206</td>\n",
       "      <td>0.841416</td>\n",
       "      <td>SVC</td>\n",
       "    </tr>\n",
       "    <tr>\n",
       "      <th>2</th>\n",
       "      <td>title</td>\n",
       "      <td>Top 1000</td>\n",
       "      <td>0.704161</td>\n",
       "      <td>0.828503</td>\n",
       "      <td>0.816069</td>\n",
       "      <td>1.500808</td>\n",
       "      <td>429</td>\n",
       "      <td>602</td>\n",
       "      <td>39</td>\n",
       "      <td>2415</td>\n",
       "      <td>0.816069</td>\n",
       "      <td>0.984108</td>\n",
       "      <td>0.416101</td>\n",
       "      <td>0.800464</td>\n",
       "      <td>0.882837</td>\n",
       "      <td>0.782476</td>\n",
       "      <td>0.812434</td>\n",
       "      <td>SVC</td>\n",
       "    </tr>\n",
       "    <tr>\n",
       "      <th>3</th>\n",
       "      <td>selftext</td>\n",
       "      <td>english</td>\n",
       "      <td>0.704161</td>\n",
       "      <td>0.909039</td>\n",
       "      <td>0.884648</td>\n",
       "      <td>2.683081</td>\n",
       "      <td>757</td>\n",
       "      <td>274</td>\n",
       "      <td>128</td>\n",
       "      <td>2326</td>\n",
       "      <td>0.884648</td>\n",
       "      <td>0.947840</td>\n",
       "      <td>0.734239</td>\n",
       "      <td>0.894615</td>\n",
       "      <td>0.920459</td>\n",
       "      <td>0.926414</td>\n",
       "      <td>0.891631</td>\n",
       "      <td>SVC</td>\n",
       "    </tr>\n",
       "    <tr>\n",
       "      <th>4</th>\n",
       "      <td>selftext</td>\n",
       "      <td>Top 100</td>\n",
       "      <td>0.704161</td>\n",
       "      <td>0.902343</td>\n",
       "      <td>0.887518</td>\n",
       "      <td>1.642993</td>\n",
       "      <td>750</td>\n",
       "      <td>281</td>\n",
       "      <td>111</td>\n",
       "      <td>2343</td>\n",
       "      <td>0.887518</td>\n",
       "      <td>0.954768</td>\n",
       "      <td>0.727449</td>\n",
       "      <td>0.892912</td>\n",
       "      <td>0.922804</td>\n",
       "      <td>0.922875</td>\n",
       "      <td>0.880440</td>\n",
       "      <td>SVC</td>\n",
       "    </tr>\n",
       "    <tr>\n",
       "      <th>5</th>\n",
       "      <td>selftext</td>\n",
       "      <td>Top 1000</td>\n",
       "      <td>0.704161</td>\n",
       "      <td>0.862363</td>\n",
       "      <td>0.823816</td>\n",
       "      <td>4.469831</td>\n",
       "      <td>545</td>\n",
       "      <td>486</td>\n",
       "      <td>128</td>\n",
       "      <td>2326</td>\n",
       "      <td>0.823816</td>\n",
       "      <td>0.947840</td>\n",
       "      <td>0.528613</td>\n",
       "      <td>0.827169</td>\n",
       "      <td>0.883403</td>\n",
       "      <td>0.852591</td>\n",
       "      <td>0.825634</td>\n",
       "      <td>SVC</td>\n",
       "    </tr>\n",
       "    <tr>\n",
       "      <th>6</th>\n",
       "      <td>title_selftext</td>\n",
       "      <td>english</td>\n",
       "      <td>0.704161</td>\n",
       "      <td>0.929794</td>\n",
       "      <td>0.915638</td>\n",
       "      <td>1.522477</td>\n",
       "      <td>815</td>\n",
       "      <td>216</td>\n",
       "      <td>78</td>\n",
       "      <td>2376</td>\n",
       "      <td>0.915638</td>\n",
       "      <td>0.968215</td>\n",
       "      <td>0.790495</td>\n",
       "      <td>0.916667</td>\n",
       "      <td>0.941736</td>\n",
       "      <td>0.952494</td>\n",
       "      <td>0.914395</td>\n",
       "      <td>SVC</td>\n",
       "    </tr>\n",
       "    <tr>\n",
       "      <th>7</th>\n",
       "      <td>title_selftext</td>\n",
       "      <td>Top 100</td>\n",
       "      <td>0.704161</td>\n",
       "      <td>0.921856</td>\n",
       "      <td>0.912769</td>\n",
       "      <td>0.985682</td>\n",
       "      <td>788</td>\n",
       "      <td>243</td>\n",
       "      <td>61</td>\n",
       "      <td>2393</td>\n",
       "      <td>0.912769</td>\n",
       "      <td>0.975143</td>\n",
       "      <td>0.764306</td>\n",
       "      <td>0.907815</td>\n",
       "      <td>0.940275</td>\n",
       "      <td>0.948127</td>\n",
       "      <td>0.905978</td>\n",
       "      <td>SVC</td>\n",
       "    </tr>\n",
       "    <tr>\n",
       "      <th>8</th>\n",
       "      <td>title_selftext</td>\n",
       "      <td>Top 1000</td>\n",
       "      <td>0.704161</td>\n",
       "      <td>0.890196</td>\n",
       "      <td>0.863702</td>\n",
       "      <td>2.976254</td>\n",
       "      <td>629</td>\n",
       "      <td>402</td>\n",
       "      <td>73</td>\n",
       "      <td>2381</td>\n",
       "      <td>0.863702</td>\n",
       "      <td>0.970253</td>\n",
       "      <td>0.610087</td>\n",
       "      <td>0.855552</td>\n",
       "      <td>0.909299</td>\n",
       "      <td>0.891381</td>\n",
       "      <td>0.863128</td>\n",
       "      <td>SVC</td>\n",
       "    </tr>\n",
       "  </tbody>\n",
       "</table>\n",
       "</div>"
      ],
      "text/plain": [
       "  Reddit Text Type Stop Word Type  Baseline Score  Training Score  Test Score  \\\n",
       "0            title        english        0.704161        0.866858    0.857389   \n",
       "1            title        Top 100        0.704161        0.852798    0.840459   \n",
       "2            title       Top 1000        0.704161        0.828503    0.816069   \n",
       "3         selftext        english        0.704161        0.909039    0.884648   \n",
       "4         selftext        Top 100        0.704161        0.902343    0.887518   \n",
       "5         selftext       Top 1000        0.704161        0.862363    0.823816   \n",
       "6   title_selftext        english        0.704161        0.929794    0.915638   \n",
       "7   title_selftext        Top 100        0.704161        0.921856    0.912769   \n",
       "8   title_selftext       Top 1000        0.704161        0.890196    0.863702   \n",
       "\n",
       "   Variance of Test vs Training Score   TN   FP   FN    TP  Accuracy  \\\n",
       "0                            1.092354  591  440   57  2397  0.857389   \n",
       "1                            1.446837  517  514   42  2412  0.840459   \n",
       "2                            1.500808  429  602   39  2415  0.816069   \n",
       "3                            2.683081  757  274  128  2326  0.884648   \n",
       "4                            1.642993  750  281  111  2343  0.887518   \n",
       "5                            4.469831  545  486  128  2326  0.823816   \n",
       "6                            1.522477  815  216   78  2376  0.915638   \n",
       "7                            0.985682  788  243   61  2393  0.912769   \n",
       "8                            2.976254  629  402   73  2381  0.863702   \n",
       "\n",
       "   Sensitivity  Specificity  Precision  F1 Score  ROC AUC Score  Best Score  \\\n",
       "0     0.976773     0.573230   0.844907  0.906067       0.869383    0.858250   \n",
       "1     0.982885     0.501455   0.824334  0.896654       0.838206    0.841416   \n",
       "2     0.984108     0.416101   0.800464  0.882837       0.782476    0.812434   \n",
       "3     0.947840     0.734239   0.894615  0.920459       0.926414    0.891631   \n",
       "4     0.954768     0.727449   0.892912  0.922804       0.922875    0.880440   \n",
       "5     0.947840     0.528613   0.827169  0.883403       0.852591    0.825634   \n",
       "6     0.968215     0.790495   0.916667  0.941736       0.952494    0.914395   \n",
       "7     0.975143     0.764306   0.907815  0.940275       0.948127    0.905978   \n",
       "8     0.970253     0.610087   0.855552  0.909299       0.891381    0.863128   \n",
       "\n",
       "  Model  \n",
       "0   SVC  \n",
       "1   SVC  \n",
       "2   SVC  \n",
       "3   SVC  \n",
       "4   SVC  \n",
       "5   SVC  \n",
       "6   SVC  \n",
       "7   SVC  \n",
       "8   SVC  "
      ]
     },
     "execution_count": 34,
     "metadata": {},
     "output_type": "execute_result"
    }
   ],
   "source": [
    "svc_full_results_df # 9 rows for each combinaton of title, selftext and both with stop words of english, Top 100 and Top 1000\n"
   ]
  },
  {
   "cell_type": "markdown",
   "id": "83e6c04c-fdd2-431b-abc8-afb3d1300258",
   "metadata": {},
   "source": [
    "#### **Interpretation**: \n",
    "\n",
    "There's lots to look at here. \n",
    "\n",
    "The baseline score is 0.70 (majority class). \n",
    "\n",
    "The Training Score varies from 0.82 to 0.92, showing the wide impact our two pre-processing steps had. The title and english  stop words (which is our benchmark without our own psudo-hyper-params) came in at 0.87, so there is 4% improvement using title_selftext. In fact, the english slightly out-performs the model using our Top 100 in Training and Testing Score, but the variance is less with the Top 100. \n",
    "\n",
    "In most of the cases, the variance is super low, coming in as low as 0.98% - this indicates that our model should be able to predict well on new unseen data. \n",
    "The 2 best scenarios are rows 6 and 7, and they are pretty similar with row 6 having slightly higher Specificity scores. \n",
    "The variance percent is within the 2% tolerance for both, though row 7 is slightly better at 0.98 vs 1.5. \n",
    "\n",
    "We did good on improving accuracy as well as reducing the variance. That's not all. Let's check more metrics\n"
   ]
  },
  {
   "cell_type": "markdown",
   "id": "a93f8efc-6f34-4069-8322-e60565a05058",
   "metadata": {},
   "source": [
    "#### Let's look at the Confusion Matrix"
   ]
  },
  {
   "cell_type": "code",
   "execution_count": 35,
   "id": "56592681-930e-49f4-b9fa-6ee52bdcd4f3",
   "metadata": {},
   "outputs": [
    {
     "data": {
      "image/png": "[encoded data removed]",
      "text/plain": [
       "<Figure size 432x288 with 2 Axes>"
      ]
     },
     "metadata": {
      "needs_background": "light"
     },
     "output_type": "display_data"
    }
   ],
   "source": [
    "best_svc_preds = best_svc_gs[1].predict(best_svc_X_test)\n",
    "\n",
    "best_svc_cm = confusion_matrix(best_svc_y_test, best_svc_preds)\n",
    "\n",
    "best_svc_cm_disp = ConfusionMatrixDisplay(best_svc_cm, display_labels=[\"C25K\", \"running\"])\n",
    "best_svc_cm_disp.plot(cmap = \"BuGn\");"
   ]
  },
  {
   "cell_type": "markdown",
   "id": "f35d87c3-e1b5-475a-ab80-70a27c190fc1",
   "metadata": {},
   "source": [
    "#### **Interpretation**: \n",
    "From our optimal row=7, here are the numbers for:  \n",
    "Accuracy\tSensitivity\tSpecificity\tPrecision  \n",
    "0.909613\t0.965363\t0.776916\t0.911504\n",
    "\n",
    "All look good, Sensitivity (True positive rate aka recall) is really high at 0.96. The Precision is also good, so we won't spend any time on these and will focus on Specificity.   \n",
    "The Specificity at 0.78 is not great. However, look at the range of Specificity across all the rows - we see that the lowest is 0.41 and this is the highest at 0.78. Again, we have seen a more than double improvement with our pre-processing! \n",
    "\n",
    "This is the crux of our analysis: \n",
    "We had expected to see quite poor accuracy because of the very similar nature of the 2 subreddits. Due to the insights gained during EDA, we were able to significantly improve the performance of the Random Forest model by utilizing more text and by using custom stop words. \n",
    "\n",
    "By adding the stop words common to both the subreddits,  we are able to separate the classes significantly. \n",
    "\n"
   ]
  },
  {
   "cell_type": "code",
   "execution_count": 36,
   "id": "beac9ee6-5901-4332-94c9-01c6db88475d",
   "metadata": {},
   "outputs": [
    {
     "data": {
      "text/html": [
       "<div>\n",
       "<style scoped>\n",
       "    .dataframe tbody tr th:only-of-type {\n",
       "        vertical-align: middle;\n",
       "    }\n",
       "\n",
       "    .dataframe tbody tr th {\n",
       "        vertical-align: top;\n",
       "    }\n",
       "\n",
       "    .dataframe thead th {\n",
       "        text-align: right;\n",
       "    }\n",
       "</style>\n",
       "<table border=\"1\" class=\"dataframe\">\n",
       "  <thead>\n",
       "    <tr style=\"text-align: right;\">\n",
       "      <th></th>\n",
       "      <th>Reddit Text Type</th>\n",
       "      <th>Stop Word Type</th>\n",
       "      <th>Training Score</th>\n",
       "      <th>Test Score</th>\n",
       "      <th>Variance of Test vs Training Score</th>\n",
       "      <th>Specificity</th>\n",
       "      <th>FP</th>\n",
       "    </tr>\n",
       "  </thead>\n",
       "  <tbody>\n",
       "    <tr>\n",
       "      <th>6</th>\n",
       "      <td>title_selftext</td>\n",
       "      <td>english</td>\n",
       "      <td>0.929794</td>\n",
       "      <td>0.915638</td>\n",
       "      <td>1.522477</td>\n",
       "      <td>0.790495</td>\n",
       "      <td>216</td>\n",
       "    </tr>\n",
       "    <tr>\n",
       "      <th>7</th>\n",
       "      <td>title_selftext</td>\n",
       "      <td>Top 100</td>\n",
       "      <td>0.921856</td>\n",
       "      <td>0.912769</td>\n",
       "      <td>0.985682</td>\n",
       "      <td>0.764306</td>\n",
       "      <td>243</td>\n",
       "    </tr>\n",
       "    <tr>\n",
       "      <th>8</th>\n",
       "      <td>title_selftext</td>\n",
       "      <td>Top 1000</td>\n",
       "      <td>0.890196</td>\n",
       "      <td>0.863702</td>\n",
       "      <td>2.976254</td>\n",
       "      <td>0.610087</td>\n",
       "      <td>402</td>\n",
       "    </tr>\n",
       "  </tbody>\n",
       "</table>\n",
       "</div>"
      ],
      "text/plain": [
       "  Reddit Text Type Stop Word Type  Training Score  Test Score  \\\n",
       "6   title_selftext        english        0.929794    0.915638   \n",
       "7   title_selftext        Top 100        0.921856    0.912769   \n",
       "8   title_selftext       Top 1000        0.890196    0.863702   \n",
       "\n",
       "   Variance of Test vs Training Score  Specificity   FP  \n",
       "6                            1.522477     0.790495  216  \n",
       "7                            0.985682     0.764306  243  \n",
       "8                            2.976254     0.610087  402  "
      ]
     },
     "execution_count": 36,
     "metadata": {},
     "output_type": "execute_result"
    }
   ],
   "source": [
    "mask = (svc_full_results_df[\"Reddit Text Type\"] == \"title_selftext\")\n",
    "svc_full_results_df[mask][[\"Reddit Text Type\", \"Stop Word Type\", \"Training Score\", \"Test Score\", \"Variance of Test vs Training Score\", \n",
    "                       \"Specificity\", \"FP\"]]\n"
   ]
  },
  {
   "cell_type": "markdown",
   "id": "b767f891-6af4-455e-9f86-032448f468e1",
   "metadata": {},
   "source": [
    "#### Let's visualize all this with some  graphs"
   ]
  },
  {
   "cell_type": "code",
   "execution_count": 37,
   "id": "9907bc23-9e9c-4487-8571-dc55cc2f4bfe",
   "metadata": {},
   "outputs": [
    {
     "data": {
      "image/png": "[encoded data removed]",
      "text/plain": [
       "<Figure size 720x360 with 3 Axes>"
      ]
     },
     "metadata": {
      "needs_background": "light"
     },
     "output_type": "display_data"
    }
   ],
   "source": [
    "mask = (svc_full_results_df[\"Reddit Text Type\"] == \"title\")\n",
    "mask_svc_df = svc_full_results_df[mask][[ \"Stop Word Type\", \"Training Score\", \"Test Score\",  \n",
    "                       \"Specificity\"]]\n",
    "\n",
    "\n",
    "mask = (svc_full_results_df[\"Reddit Text Type\"] == \"title_selftext\")\n",
    "ts_mask_svc_df = svc_full_results_df[mask][[ \"Stop Word Type\", \"Training Score\", \"Test Score\",  \n",
    "                       \"Specificity\"]]\n",
    "\n",
    "mask = (svc_full_results_df[\"Stop Word Type\"] == \"Top 100\")\n",
    "st_mask_svc_df = svc_full_results_df[mask][[ \"Reddit Text Type\", \"Training Score\", \"Test Score\",  \n",
    "                       \"Specificity\"]]\n",
    "\n",
    "\n",
    "\n",
    "\n",
    "plt.figure(figsize=(10,5));\n",
    "plt.suptitle( \"SVC: Comparison of Training, Test and Specificity Scores\")\n",
    "\n",
    "\n",
    "ax1 = plt.subplot(1, 3, 1)\n",
    "mask_svc_df.plot.bar(ax=ax1)\n",
    "\n",
    "plt.axhline(0.7, color = 'black', linestyle = '--' )\n",
    "plt.xticks([0, 1, 2 ], mask_svc_df[\"Stop Word Type\"], rotation=0);\n",
    "\n",
    "plt.ylim(0, 1.4); # to make sure the legend doesn't overlap the bars\n",
    "plt.title(\"By title\")\n",
    "\n",
    "\n",
    "ax2 = plt.subplot(1, 3, 2)\n",
    "ts_mask_svc_df.plot.bar(ax=ax2)\n",
    "\n",
    "plt.axhline(0.7, color = 'black', linestyle = '--' )\n",
    "plt.xticks([0, 1, 2 ], ts_mask_svc_df[\"Stop Word Type\"], rotation=0);\n",
    "\n",
    "plt.ylim(0, 1.4); # to make sure the legend doesn't overlap the bars\n",
    "plt.title(\"By title_selftext\")\n",
    "\n",
    "\n",
    "ax3 = plt.subplot(1, 3, 3)\n",
    "st_mask_svc_df.plot.bar(ax=ax3)\n",
    "\n",
    "plt.axhline(0.7, color = 'black', linestyle = '--' )\n",
    "plt.xticks([0, 1, 2 ], st_mask_svc_df[\"Reddit Text Type\"], rotation=0);\n",
    "\n",
    "plt.title(\"By Top 100\")\n",
    "\n",
    "\n",
    "plt.ylim(0, 1.4); # to make sure the legend doesn't overlap the bars\n",
    "\n",
    "plt.savefig(\"../images/svc_train_test_spec.png\")\n"
   ]
  },
  {
   "cell_type": "markdown",
   "id": "dcfc557d-9bde-4f80-a453-9233fc1c8a99",
   "metadata": {},
   "source": [
    "#### **Interpretation**: There's lots to look at here. \n",
    "\n",
    "1. The baseline score is 0.70 (majority class) (black dotted line).  All our iterations performed significantly better than baseline.  \n",
    "\n",
    "2. The Training Score varies from 0.81 to 0.97, showing the wide impact our two pre-processing steps had! After using the finely tuned hyperparameters, we were still able to get an additional 20% improvement by using title_selftext and our Top 100 stop words list!\n",
    "\n",
    "    If we had just used title as our predictor and used the Top 100 stop words (graph 1), we would have got Train/Test Scores of: 0.87 and 0.85. This is a decent score, not overfit, since we did of a lot of tuning of the hyperparameters to reduce the variance typically found in DecisionTree models. \n",
    "\n",
    "3. When changing from title to to title_selftext (graph 2), we see a marked improvement. The Training score is higher at 0.97, but the gap with the Testing score of 0.91 is a bit high, indicating this model is a bit overfit. This intuitively makes sense because we have a much larger corpus so it can easily get great accuracy (the optimal max_depth is 70, it got better Training highers at higher max_depths, but it also got more overfit, so I capped it at 70). \n",
    "\n",
    "4. With the Stop Word Type of Top 100 (graph 3, optimal), the Training Score of 0.96 is slightly lower meaning a little less accuracy, but the Test Score of 0.91 is closer. So, it is less overfit and should be able to do a better job with  predicting on new unseen data. \n",
    "\n",
    "    We are willing to increase the bias to reduce the variance to make better predictions. \n",
    "\n",
    "    We did great on improving accuracy as well as reducing the variance. That's not all. Let's check more metrics\n",
    "\n"
   ]
  },
  {
   "cell_type": "code",
   "execution_count": 38,
   "id": "3fb7b9ec-ae44-45b4-be1b-47f15b7208f8",
   "metadata": {},
   "outputs": [
    {
     "data": {
      "image/png": "[encoded data removed]",
      "text/plain": [
       "<Figure size 445x360 with 1 Axes>"
      ]
     },
     "metadata": {
      "needs_background": "light"
     },
     "output_type": "display_data"
    }
   ],
   "source": [
    "sns.catplot(data = svc_full_results_df, kind = 'bar', x = 'Reddit Text Type', y = 'Specificity', hue = 'Stop Word Type').set(\n",
    "    title = \"SVC: Variation of Specificity by Reddit Text Type and Stop Word Type\");\n",
    "\n"
   ]
  },
  {
   "cell_type": "markdown",
   "id": "ce3b65c0-275a-4993-86c1-271eeccbdcbb",
   "metadata": {},
   "source": [
    "#### **Interpretation**: The best Specificity at 0.78 is not great. However, look at the range of Specificity across all the rows - we see that the lowest is 0.37 and this is the highest at 0.78. Again, we have seen a more than double improvement with our pre-processing! \n",
    "\n",
    "This is the crux of our analysis: \n",
    "We had expected to see quite poor accuracy because of the very similar nature of the 2 subreddits. Due to the insights gained during EDA, we were able to significantly improve the performance of the Random Forest model by utilizing more text and by using custom stop words. \n",
    "\n",
    "By adding the stop words common to both the subreddits,  we are able to separate the classes significantly. \n"
   ]
  },
  {
   "cell_type": "code",
   "execution_count": 39,
   "id": "07aa6079-0f2f-47d6-87f5-070be7e7ad29",
   "metadata": {},
   "outputs": [
    {
     "data": {
      "image/png": "[encoded data removed]",
      "text/plain": [
       "<Figure size 445x360 with 1 Axes>"
      ]
     },
     "metadata": {
      "needs_background": "light"
     },
     "output_type": "display_data"
    }
   ],
   "source": [
    "sns.catplot(data = svc_full_results_df, kind = 'bar', x = 'Reddit Text Type', y = 'Variance of Test vs Training Score', hue = 'Stop Word Type').set(\n",
    "    title = \"SVC: Variance by Reddit Text Type and Stop Word Type (lower is better)\");\n",
    "\n",
    "plt.ylabel(\"Variance on Test vs Training Score (%)\");"
   ]
  },
  {
   "cell_type": "markdown",
   "id": "6c4987ca-176e-4b8a-bddf-539e1036a9e6",
   "metadata": {},
   "source": [
    "#### **Interpretation**: If we want the least overfit model (lowest variance), we should pick the title and Stop 1000 combination. The percentage difference between the training and Test score is really low at 1.8%"
   ]
  },
  {
   "cell_type": "code",
   "execution_count": 40,
   "id": "cb85a5a7-e97a-41f2-be09-f3915c17d935",
   "metadata": {},
   "outputs": [
    {
     "data": {
      "text/html": [
       "<div>\n",
       "<style scoped>\n",
       "    .dataframe tbody tr th:only-of-type {\n",
       "        vertical-align: middle;\n",
       "    }\n",
       "\n",
       "    .dataframe tbody tr th {\n",
       "        vertical-align: top;\n",
       "    }\n",
       "\n",
       "    .dataframe thead th {\n",
       "        text-align: right;\n",
       "    }\n",
       "</style>\n",
       "<table border=\"1\" class=\"dataframe\">\n",
       "  <thead>\n",
       "    <tr style=\"text-align: right;\">\n",
       "      <th></th>\n",
       "      <th>Stop Word Type</th>\n",
       "      <th>Training Score</th>\n",
       "      <th>Test Score</th>\n",
       "      <th>Specificity</th>\n",
       "    </tr>\n",
       "  </thead>\n",
       "  <tbody>\n",
       "    <tr>\n",
       "      <th>0</th>\n",
       "      <td>english</td>\n",
       "      <td>0.873649</td>\n",
       "      <td>0.856241</td>\n",
       "      <td>0.549952</td>\n",
       "    </tr>\n",
       "    <tr>\n",
       "      <th>1</th>\n",
       "      <td>Top 100</td>\n",
       "      <td>0.846868</td>\n",
       "      <td>0.835007</td>\n",
       "      <td>0.466537</td>\n",
       "    </tr>\n",
       "    <tr>\n",
       "      <th>2</th>\n",
       "      <td>Top 1000</td>\n",
       "      <td>0.817217</td>\n",
       "      <td>0.812339</td>\n",
       "      <td>0.375364</td>\n",
       "    </tr>\n",
       "  </tbody>\n",
       "</table>\n",
       "</div>"
      ],
      "text/plain": [
       "  Stop Word Type  Training Score  Test Score  Specificity\n",
       "0        english        0.873649    0.856241     0.549952\n",
       "1        Top 100        0.846868    0.835007     0.466537\n",
       "2       Top 1000        0.817217    0.812339     0.375364"
      ]
     },
     "execution_count": 40,
     "metadata": {},
     "output_type": "execute_result"
    }
   ],
   "source": [
    "mask_rf_df"
   ]
  },
  {
   "cell_type": "code",
   "execution_count": 41,
   "id": "b8cc89cb-9828-4f7a-9dc5-aac8010d5e2e",
   "metadata": {},
   "outputs": [
    {
     "name": "stdout",
     "output_type": "stream",
     "text": [
      "ROC AUC Score: 0.9481272089274858\n"
     ]
    },
    {
     "data": {
      "image/png": "[encoded data removed]",
      "text/plain": [
       "<Figure size 432x288 with 1 Axes>"
      ]
     },
     "metadata": {
      "needs_background": "light"
     },
     "output_type": "display_data"
    }
   ],
   "source": [
    "# Get the predicted probabilites\n",
    "best_svc_preds_prob = best_svc_gs[1].predict_proba(best_svc_X_test)[:,1]\n",
    "\n",
    "# Plot ROC curve\n",
    "\n",
    "fpr, tpr, thresholds = roc_curve(best_svc_y_test, best_svc_preds_prob)\n",
    "plt.plot(fpr, tpr)\n",
    "plt.xlim([0.0, 1.0])\n",
    "plt.ylim([0.0, 1.0])\n",
    "plt.title('ROC curve for subreddit classifier')\n",
    "plt.xlabel('False Positive Rate (1 - Specificity)')\n",
    "plt.ylabel('True Positive Rate (Sensitivity)')\n",
    "plt.grid(True)\n",
    "plt.plot([0, 1], [0, 1],\n",
    "         label='baseline', linestyle='--')\n",
    "plt.legend();\n",
    "\n",
    "print( f\"ROC AUC Score: {roc_auc_score(best_svc_y_test, best_svc_preds_prob)}\")\n",
    "\n",
    "plt.savefig(\"../images/svc_roc_auc_curve.png\") # save file to disk for use in presentation/readme"
   ]
  },
  {
   "cell_type": "markdown",
   "id": "3cae540b-f227-4223-8463-35c0b26f4072",
   "metadata": {},
   "source": [
    "#### **Interpretation**: The ROC AUC score of 0.94 is high (close to the max of 1), as can also be seen by the area  under the curve.  \n",
    "This shows that the positive and negative classes are quite well separated after choosing title_selftext and the Top 100 stop words. \n",
    "\n"
   ]
  },
  {
   "cell_type": "markdown",
   "id": "2f52f393-eac7-4f6b-b5fa-75a29dadfca4",
   "metadata": {},
   "source": [
    "#### There's one more thing we should look at. \n",
    "Can we interpret anything from the predicted probabilities? \n",
    "For our predictions that are on the borderline say between 0.4 and 0.6, what can we do? Currently, we use the threshold of 0.5 and mark them as either running or c25k. \n",
    "If they are on the border, should we ask our Reddit moderators to cross-post them on both subreddits?\n"
   ]
  },
  {
   "cell_type": "code",
   "execution_count": 42,
   "id": "d89f1359-102a-465b-9b55-7101b8e9d3ad",
   "metadata": {
    "tags": []
   },
   "outputs": [],
   "source": [
    "# Let's create a dataframe called pred_df that contains:\n",
    "# 1. The true values of our test set.\n",
    "# 2. The predicted probabilities based on our model.\n",
    "\n",
    "best_svc_pred_df = pd.DataFrame({'true_values': best_svc_y_test,\n",
    "                        'pred_probs': best_svc_preds_prob})\n",
    "\n",
    "#best_svc_pred_df.head()"
   ]
  },
  {
   "cell_type": "markdown",
   "id": "dc87f6fd-a0c9-4d75-9c48-59a6daa044ca",
   "metadata": {},
   "source": [
    "#### Plot distributions of predicted probabilities by actual values\n",
    "\n"
   ]
  },
  {
   "cell_type": "code",
   "execution_count": 43,
   "id": "3ccf36c0-eb74-4d0c-8fcb-0fa83398ffa1",
   "metadata": {},
   "outputs": [
    {
     "name": "stderr",
     "output_type": "stream",
     "text": [
      "/Users/sarniraj/opt/anaconda3/lib/python3.8/site-packages/seaborn/distributions.py:2619: FutureWarning: `distplot` is a deprecated function and will be removed in a future version. Please adapt your code to use either `displot` (a figure-level function with similar flexibility) or `histplot` (an axes-level function for histograms).\n",
      "  warnings.warn(msg, FutureWarning)\n"
     ]
    },
    {
     "data": {
      "image/png": "[encoded data removed]",
      "text/plain": [
       "<Figure size 432x288 with 1 Axes>"
      ]
     },
     "metadata": {
      "needs_background": "light"
     },
     "output_type": "display_data"
    }
   ],
   "source": [
    "\n",
    "# Classification Metrics: Showing TP, TN, FP, FN on graph \n",
    "\n",
    "for group in best_svc_pred_df.groupby('true_values'):\n",
    "    sns.distplot(group[1], kde = False, bins = 20, label = f'Actual Outcome = {group[0]}')\n",
    "\n",
    "# Add cutoff line\n",
    "plt.axvline(0.5, color = 'black', linestyle = '--')\n",
    "\n",
    "# Add annotations for TN, FN, TP, FP.\n",
    "plt.annotate(\"TN\", xy = (0.02, 15), size = 15)\n",
    "plt.annotate(\"FN\", xy = (0.12, 0), size = 15)\n",
    "plt.annotate(\"TP\", xy = (0.85, 1), size = 15)\n",
    "plt.annotate(\"FP\", xy = (0.57, 1), size = 15)\n",
    "\n",
    "plt.xlabel('Predicted Probability that Outcome = 1', fontsize = 15)\n",
    "plt.legend(fontsize = 15);\n"
   ]
  },
  {
   "cell_type": "markdown",
   "id": "ab4b38c1-224d-4b04-b4d8-108eb2171e95",
   "metadata": {},
   "source": [
    "#### **Interpretation**:   \n",
    "Orange bars to the right of 0.5 are all TP  \n",
    "Orange bars to the left of 0.5 are all FN (predicted 0, actual 1)  \n",
    "Blue bars to the left of 0.5 are the TN (predicted 0, actual 0)  \n",
    "Blue bars to the right of 0.5 are the FP (predicted 1, actual 0)  \n",
    "\n"
   ]
  },
  {
   "cell_type": "markdown",
   "id": "26a4dcec-6d5e-4ac6-b836-1ed798e2c30b",
   "metadata": {},
   "source": [
    "#### In SVC, Predicted probability does not match with prediction. i.e. if predicted is < 0.5, predicted can be 1 and vice-versa too...\n",
    "#### Interestingly, 60 cases where predicted is 1 and predicted proba is less than 0.5 \n",
    "and 0 cases where predicted is 0 and proba is > 0.5\n",
    "\n"
   ]
  },
  {
   "cell_type": "code",
   "execution_count": 44,
   "id": "1c2702ec-3643-4d50-b944-e03c8afcf6e1",
   "metadata": {},
   "outputs": [
    {
     "name": "stdout",
     "output_type": "stream",
     "text": [
      "60 0\n"
     ]
    }
   ],
   "source": [
    "count_prob_positive = 0\n",
    "count_prob_neg = 0\n",
    "\n",
    "for i, p in enumerate( best_svc_preds ):\n",
    "    if p == 1: \n",
    "        if best_svc_preds_prob[i] < 0.5: # not fp, but similar\n",
    "#            print( i, p,  best_svc_preds_prob[i],  y_test.iloc[i])\n",
    "#            print (f\"i: {i}, Predicted Prob: {round(best_svc_preds_prob[i],2)}, Predicted: {best_svc_preds[i]}, Actual: {best_svc_y_test.iloc[i]}, Text: {best_svc_X_test.iloc[i][:100]} \")\n",
    "            count_prob_positive += 1\n",
    "    else: # p = 0\n",
    "        if best_svc_preds_prob[i] > 0.5: \n",
    "            count_prob_neg += 1\n",
    "\n",
    "print( count_prob_positive, count_prob_neg )"
   ]
  },
  {
   "cell_type": "markdown",
   "id": "00128903-bf48-49cf-a88a-bdd7c1bc318a",
   "metadata": {
    "tags": []
   },
   "source": [
    "#### Borderline scenario: If predicted proba is in range of 0.4 to 0.6, the classification can be considered to be non-definitive and hence can be posted in both subs"
   ]
  },
  {
   "cell_type": "code",
   "execution_count": 45,
   "id": "234e8a6a-06a7-4e78-abee-7711a11325df",
   "metadata": {},
   "outputs": [
    {
     "name": "stdout",
     "output_type": "stream",
     "text": [
      "i: 17, Predicted Prob: 0.55, Predicted: 1, Actual: 1, Text: I've never been a runner, but yesterday I ran a mile in 10 minutes. How do I improve when my main fo \n",
      "i: 45, Predicted Prob: 0.56, Predicted: 1, Actual: 1, Text: I ran the most I ever have before. 17M - Asthmatic - Fasting.\\nI'm 1.92m tall, 85kg, and fairly chub \n",
      "i: 53, Predicted Prob: 0.58, Predicted: 1, Actual: 1, Text: Strava segment etiquettes.\\nWhat are your etiquettes or rules when it comes to earning KOMs/QOMs on  \n",
      "i: 106, Predicted Prob: 0.47, Predicted: 1, Actual: 1, Text: I did everything wrong for my first half marathon. But I loved it!.\\nI've hated running for as long  \n",
      "i: 122, Predicted Prob: 0.55, Predicted: 1, Actual: 0, Text: Does Zenlabs Couch 2 5K include the warmup and warm down in the distance recorded?.\\nI can’t find th \n",
      "i: 135, Predicted Prob: 0.47, Predicted: 1, Actual: 0, Text: Does anyone have doubt ever?.\\nwhen i say doubt im on WK2D3 and im doing well, although it seems cra \n",
      "i: 159, Predicted Prob: 0.51, Predicted: 1, Actual: 1, Text: What are your favorite pre- and post-run stretches?.\\nDo you stick to the same stretches every time  \n",
      "i: 199, Predicted Prob: 0.49, Predicted: 1, Actual: 0, Text: Should I try this? Please give me all the tips you can.\\nI have recently lost a fair bit of weight I \n",
      "i: 228, Predicted Prob: 0.48, Predicted: 1, Actual: 1, Text: “pain” in ankles.\\ni’ve been jogging for 30minutes 6 days a week for 2 weeks and i don’t know to des \n",
      "140\n"
     ]
    }
   ],
   "source": [
    "count = 0\n",
    "for i in range(0, len(best_svc_preds_prob)):\n",
    "    if (best_svc_preds_prob[i] < 0.6) and (best_svc_preds_prob[i] > 0.4):\n",
    "        count = count + 1\n",
    "        if count < 10: #print only the first 10 to avoid clutter \n",
    "            print (f\"i: {i}, Predicted Prob: {round(best_svc_preds_prob[i],2)}, Predicted: {best_svc_preds[i]}, Actual: {best_svc_y_test.iloc[i]}, Text: {best_svc_X_test.iloc[i][:100]} \")\n",
    "print (count)  # 140 out of 3485 where predicted prob was in range 0.4-0.6. These can be cross-posted\n",
    "\n",
    "# See row #4: i: 106, Predicted Prob: 0.47, Predicted: 1, Actual: 1: Even though the predicted proba was 0.47, it predicted 1\n"
   ]
  },
  {
   "cell_type": "markdown",
   "id": "4cef9582-d8f9-49ec-9659-b66e6f7ba98e",
   "metadata": {
    "tags": []
   },
   "source": [
    "#### Now lets look at False positives\n"
   ]
  },
  {
   "cell_type": "code",
   "execution_count": 46,
   "id": "3d962c70-bad8-4832-a93b-dae477716b41",
   "metadata": {
    "tags": []
   },
   "outputs": [
    {
     "data": {
      "text/plain": [
       "243"
      ]
     },
     "execution_count": 46,
     "metadata": {},
     "output_type": "execute_result"
    }
   ],
   "source": [
    "# print message text for the false positives (incorrectly classified c25k(0) as running (1)) \n",
    "\n",
    "\n",
    "len(best_svc_X_test[(best_svc_preds == 1) & (best_svc_y_test == 0)])\n",
    "##Alternatively, \n",
    "# best_svc_X_test[best_svc_preds > best_svc_y_test]\n",
    "\n"
   ]
  },
  {
   "cell_type": "markdown",
   "id": "cb842a02-9f8f-4df0-8b6b-5c6bde5559d6",
   "metadata": {},
   "source": [
    "#### Now lets look at False Negatives\n"
   ]
  },
  {
   "cell_type": "code",
   "execution_count": 47,
   "id": "038ee4c5-708a-4336-8dce-3ecd9f7bedb4",
   "metadata": {},
   "outputs": [
    {
     "name": "stdout",
     "output_type": "stream",
     "text": [
      "Len = 61\n",
      "\n"
     ]
    }
   ],
   "source": [
    "# False negatives (incorrectly classified running(1) as c25k (0)) \n",
    "\n",
    "print( f\"Len = {len(best_svc_X_test[(best_svc_preds == 0) & (best_svc_y_test == 1)])}\\n\")\n",
    "\n",
    "#best_svc_X_test[(best_svc_preds == 0) & (best_svc_y_test == 1)] # 94 False negatives, matches ConfusionMatrix\n",
    "\n",
    "##Alternatively, \n",
    "# best_svc_X_test[best_svc_preds < best_svc_y_test]\n",
    "\n"
   ]
  },
  {
   "cell_type": "markdown",
   "id": "876bd973-79e5-4fee-82c8-24896e4129e2",
   "metadata": {},
   "source": [
    "#### Yay!! Done with analysis for SVC too!\n",
    "\n"
   ]
  },
  {
   "cell_type": "markdown",
   "id": "df9f1981-8ecd-4af0-85b0-188073c5974f",
   "metadata": {},
   "source": [
    "#### Lets look at all the 4 classifiers"
   ]
  },
  {
   "cell_type": "code",
   "execution_count": 48,
   "id": "ba97f7a5-6599-4eb1-bf1d-d6bff93244f9",
   "metadata": {},
   "outputs": [
    {
     "data": {
      "image/png": "[encoded data removed]",
      "text/plain": [
       "<Figure size 445x360 with 1 Axes>"
      ]
     },
     "metadata": {
      "needs_background": "light"
     },
     "output_type": "display_data"
    },
    {
     "data": {
      "image/png": "[encoded data removed]",
      "text/plain": [
       "<Figure size 445x360 with 1 Axes>"
      ]
     },
     "metadata": {
      "needs_background": "light"
     },
     "output_type": "display_data"
    },
    {
     "data": {
      "image/png": "[encoded data removed]",
      "text/plain": [
       "<Figure size 445x360 with 1 Axes>"
      ]
     },
     "metadata": {
      "needs_background": "light"
     },
     "output_type": "display_data"
    },
    {
     "data": {
      "image/png": "[encoded data removed]",
      "text/plain": [
       "<Figure size 445x360 with 1 Axes>"
      ]
     },
     "metadata": {
      "needs_background": "light"
     },
     "output_type": "display_data"
    },
    {
     "name": "stderr",
     "output_type": "stream",
     "text": [
      "/Users/sarniraj/opt/anaconda3/lib/python3.8/site-packages/sklearn/feature_extraction/text.py:396: UserWarning: Your stop_words may be inconsistent with your preprocessing. Tokenizing the stop words generated tokens ['running'] not in stop_words.\n",
      "  warnings.warn(\n",
      "/Users/sarniraj/opt/anaconda3/lib/python3.8/site-packages/sklearn/feature_extraction/text.py:396: UserWarning: Your stop_words may be inconsistent with your preprocessing. Tokenizing the stop words generated tokens ['running'] not in stop_words.\n",
      "  warnings.warn(\n",
      "/Users/sarniraj/opt/anaconda3/lib/python3.8/site-packages/sklearn/svm/_base.py:284: ConvergenceWarning: Solver terminated early (max_iter=5000).  Consider pre-processing your data with StandardScaler or MinMaxScaler.\n",
      "  warnings.warn(\n",
      "/Users/sarniraj/opt/anaconda3/lib/python3.8/site-packages/sklearn/svm/_base.py:284: ConvergenceWarning: Solver terminated early (max_iter=5000).  Consider pre-processing your data with StandardScaler or MinMaxScaler.\n",
      "  warnings.warn(\n",
      "/Users/sarniraj/opt/anaconda3/lib/python3.8/site-packages/sklearn/svm/_base.py:284: ConvergenceWarning: Solver terminated early (max_iter=5000).  Consider pre-processing your data with StandardScaler or MinMaxScaler.\n",
      "  warnings.warn(\n",
      "/Users/sarniraj/opt/anaconda3/lib/python3.8/site-packages/sklearn/svm/_base.py:284: ConvergenceWarning: Solver terminated early (max_iter=5000).  Consider pre-processing your data with StandardScaler or MinMaxScaler.\n",
      "  warnings.warn(\n",
      "/Users/sarniraj/opt/anaconda3/lib/python3.8/site-packages/sklearn/svm/_base.py:284: ConvergenceWarning: Solver terminated early (max_iter=5000).  Consider pre-processing your data with StandardScaler or MinMaxScaler.\n",
      "  warnings.warn(\n",
      "/Users/sarniraj/opt/anaconda3/lib/python3.8/site-packages/sklearn/svm/_base.py:284: ConvergenceWarning: Solver terminated early (max_iter=5000).  Consider pre-processing your data with StandardScaler or MinMaxScaler.\n",
      "  warnings.warn(\n",
      "/Users/sarniraj/opt/anaconda3/lib/python3.8/site-packages/sklearn/svm/_base.py:284: ConvergenceWarning: Solver terminated early (max_iter=5000).  Consider pre-processing your data with StandardScaler or MinMaxScaler.\n",
      "  warnings.warn(\n",
      "/Users/sarniraj/opt/anaconda3/lib/python3.8/site-packages/sklearn/svm/_base.py:284: ConvergenceWarning: Solver terminated early (max_iter=5000).  Consider pre-processing your data with StandardScaler or MinMaxScaler.\n",
      "  warnings.warn(\n",
      "/Users/sarniraj/opt/anaconda3/lib/python3.8/site-packages/sklearn/feature_extraction/text.py:396: UserWarning: Your stop_words may be inconsistent with your preprocessing. Tokenizing the stop words generated tokens ['running'] not in stop_words.\n",
      "  warnings.warn(\n",
      "/Users/sarniraj/opt/anaconda3/lib/python3.8/site-packages/sklearn/feature_extraction/text.py:396: UserWarning: Your stop_words may be inconsistent with your preprocessing. Tokenizing the stop words generated tokens ['running'] not in stop_words.\n",
      "  warnings.warn(\n",
      "/Users/sarniraj/opt/anaconda3/lib/python3.8/site-packages/sklearn/feature_extraction/text.py:396: UserWarning: Your stop_words may be inconsistent with your preprocessing. Tokenizing the stop words generated tokens ['running'] not in stop_words.\n",
      "  warnings.warn(\n",
      "/Users/sarniraj/opt/anaconda3/lib/python3.8/site-packages/sklearn/feature_extraction/text.py:396: UserWarning: Your stop_words may be inconsistent with your preprocessing. Tokenizing the stop words generated tokens ['running'] not in stop_words.\n",
      "  warnings.warn(\n",
      "/Users/sarniraj/opt/anaconda3/lib/python3.8/site-packages/sklearn/feature_extraction/text.py:396: UserWarning: Your stop_words may be inconsistent with your preprocessing. Tokenizing the stop words generated tokens ['running'] not in stop_words.\n",
      "  warnings.warn(\n",
      "/Users/sarniraj/opt/anaconda3/lib/python3.8/site-packages/sklearn/feature_extraction/text.py:396: UserWarning: Your stop_words may be inconsistent with your preprocessing. Tokenizing the stop words generated tokens ['running'] not in stop_words.\n",
      "  warnings.warn(\n",
      "/Users/sarniraj/opt/anaconda3/lib/python3.8/site-packages/sklearn/feature_extraction/text.py:396: UserWarning: Your stop_words may be inconsistent with your preprocessing. Tokenizing the stop words generated tokens ['running'] not in stop_words.\n",
      "  warnings.warn(\n",
      "/Users/sarniraj/opt/anaconda3/lib/python3.8/site-packages/sklearn/svm/_base.py:284: ConvergenceWarning: Solver terminated early (max_iter=5000).  Consider pre-processing your data with StandardScaler or MinMaxScaler.\n",
      "  warnings.warn(\n",
      "/Users/sarniraj/opt/anaconda3/lib/python3.8/site-packages/sklearn/svm/_base.py:284: ConvergenceWarning: Solver terminated early (max_iter=5000).  Consider pre-processing your data with StandardScaler or MinMaxScaler.\n",
      "  warnings.warn(\n",
      "/Users/sarniraj/opt/anaconda3/lib/python3.8/site-packages/sklearn/svm/_base.py:284: ConvergenceWarning: Solver terminated early (max_iter=5000).  Consider pre-processing your data with StandardScaler or MinMaxScaler.\n",
      "  warnings.warn(\n",
      "/Users/sarniraj/opt/anaconda3/lib/python3.8/site-packages/sklearn/svm/_base.py:284: ConvergenceWarning: Solver terminated early (max_iter=5000).  Consider pre-processing your data with StandardScaler or MinMaxScaler.\n",
      "  warnings.warn(\n",
      "/Users/sarniraj/opt/anaconda3/lib/python3.8/site-packages/sklearn/svm/_base.py:284: ConvergenceWarning: Solver terminated early (max_iter=5000).  Consider pre-processing your data with StandardScaler or MinMaxScaler.\n",
      "  warnings.warn(\n",
      "/Users/sarniraj/opt/anaconda3/lib/python3.8/site-packages/sklearn/svm/_base.py:284: ConvergenceWarning: Solver terminated early (max_iter=5000).  Consider pre-processing your data with StandardScaler or MinMaxScaler.\n",
      "  warnings.warn(\n",
      "/Users/sarniraj/opt/anaconda3/lib/python3.8/site-packages/sklearn/feature_extraction/text.py:396: UserWarning: Your stop_words may be inconsistent with your preprocessing. Tokenizing the stop words generated tokens ['running'] not in stop_words.\n",
      "  warnings.warn(\n",
      "/Users/sarniraj/opt/anaconda3/lib/python3.8/site-packages/sklearn/svm/_base.py:284: ConvergenceWarning: Solver terminated early (max_iter=5000).  Consider pre-processing your data with StandardScaler or MinMaxScaler.\n",
      "  warnings.warn(\n",
      "/Users/sarniraj/opt/anaconda3/lib/python3.8/site-packages/sklearn/svm/_base.py:284: ConvergenceWarning: Solver terminated early (max_iter=5000).  Consider pre-processing your data with StandardScaler or MinMaxScaler.\n",
      "  warnings.warn(\n",
      "/Users/sarniraj/opt/anaconda3/lib/python3.8/site-packages/sklearn/feature_extraction/text.py:396: UserWarning: Your stop_words may be inconsistent with your preprocessing. Tokenizing the stop words generated tokens ['running'] not in stop_words.\n",
      "  warnings.warn(\n",
      "/Users/sarniraj/opt/anaconda3/lib/python3.8/site-packages/sklearn/feature_extraction/text.py:396: UserWarning: Your stop_words may be inconsistent with your preprocessing. Tokenizing the stop words generated tokens ['running'] not in stop_words.\n",
      "  warnings.warn(\n",
      "/Users/sarniraj/opt/anaconda3/lib/python3.8/site-packages/sklearn/feature_extraction/text.py:396: UserWarning: Your stop_words may be inconsistent with your preprocessing. Tokenizing the stop words generated tokens ['running'] not in stop_words.\n",
      "  warnings.warn(\n",
      "/Users/sarniraj/opt/anaconda3/lib/python3.8/site-packages/sklearn/feature_extraction/text.py:396: UserWarning: Your stop_words may be inconsistent with your preprocessing. Tokenizing the stop words generated tokens ['running'] not in stop_words.\n",
      "  warnings.warn(\n",
      "/Users/sarniraj/opt/anaconda3/lib/python3.8/site-packages/sklearn/feature_extraction/text.py:396: UserWarning: Your stop_words may be inconsistent with your preprocessing. Tokenizing the stop words generated tokens ['running'] not in stop_words.\n",
      "  warnings.warn(\n",
      "/Users/sarniraj/opt/anaconda3/lib/python3.8/site-packages/sklearn/feature_extraction/text.py:396: UserWarning: Your stop_words may be inconsistent with your preprocessing. Tokenizing the stop words generated tokens ['running'] not in stop_words.\n",
      "  warnings.warn(\n",
      "/Users/sarniraj/opt/anaconda3/lib/python3.8/site-packages/sklearn/feature_extraction/text.py:396: UserWarning: Your stop_words may be inconsistent with your preprocessing. Tokenizing the stop words generated tokens ['running'] not in stop_words.\n",
      "  warnings.warn(\n",
      "/Users/sarniraj/opt/anaconda3/lib/python3.8/site-packages/sklearn/feature_extraction/text.py:396: UserWarning: Your stop_words may be inconsistent with your preprocessing. Tokenizing the stop words generated tokens ['running'] not in stop_words.\n",
      "  warnings.warn(\n",
      "/Users/sarniraj/opt/anaconda3/lib/python3.8/site-packages/sklearn/svm/_base.py:284: ConvergenceWarning: Solver terminated early (max_iter=5000).  Consider pre-processing your data with StandardScaler or MinMaxScaler.\n",
      "  warnings.warn(\n",
      "/Users/sarniraj/opt/anaconda3/lib/python3.8/site-packages/sklearn/svm/_base.py:284: ConvergenceWarning: Solver terminated early (max_iter=5000).  Consider pre-processing your data with StandardScaler or MinMaxScaler.\n",
      "  warnings.warn(\n",
      "/Users/sarniraj/opt/anaconda3/lib/python3.8/site-packages/sklearn/svm/_base.py:284: ConvergenceWarning: Solver terminated early (max_iter=5000).  Consider pre-processing your data with StandardScaler or MinMaxScaler.\n",
      "  warnings.warn(\n",
      "/Users/sarniraj/opt/anaconda3/lib/python3.8/site-packages/sklearn/svm/_base.py:284: ConvergenceWarning: Solver terminated early (max_iter=5000).  Consider pre-processing your data with StandardScaler or MinMaxScaler.\n",
      "  warnings.warn(\n",
      "/Users/sarniraj/opt/anaconda3/lib/python3.8/site-packages/sklearn/svm/_base.py:284: ConvergenceWarning: Solver terminated early (max_iter=5000).  Consider pre-processing your data with StandardScaler or MinMaxScaler.\n",
      "  warnings.warn(\n",
      "/Users/sarniraj/opt/anaconda3/lib/python3.8/site-packages/sklearn/feature_extraction/text.py:396: UserWarning: Your stop_words may be inconsistent with your preprocessing. Tokenizing the stop words generated tokens ['running'] not in stop_words.\n",
      "  warnings.warn(\n",
      "/Users/sarniraj/opt/anaconda3/lib/python3.8/site-packages/sklearn/svm/_base.py:284: ConvergenceWarning: Solver terminated early (max_iter=5000).  Consider pre-processing your data with StandardScaler or MinMaxScaler.\n",
      "  warnings.warn(\n",
      "/Users/sarniraj/opt/anaconda3/lib/python3.8/site-packages/sklearn/svm/_base.py:284: ConvergenceWarning: Solver terminated early (max_iter=5000).  Consider pre-processing your data with StandardScaler or MinMaxScaler.\n",
      "  warnings.warn(\n",
      "/Users/sarniraj/opt/anaconda3/lib/python3.8/site-packages/sklearn/svm/_base.py:284: ConvergenceWarning: Solver terminated early (max_iter=5000).  Consider pre-processing your data with StandardScaler or MinMaxScaler.\n",
      "  warnings.warn(\n",
      "/Users/sarniraj/opt/anaconda3/lib/python3.8/site-packages/sklearn/feature_extraction/text.py:396: UserWarning: Your stop_words may be inconsistent with your preprocessing. Tokenizing the stop words generated tokens ['running'] not in stop_words.\n",
      "  warnings.warn(\n",
      "/Users/sarniraj/opt/anaconda3/lib/python3.8/site-packages/sklearn/feature_extraction/text.py:396: UserWarning: Your stop_words may be inconsistent with your preprocessing. Tokenizing the stop words generated tokens ['running'] not in stop_words.\n",
      "  warnings.warn(\n",
      "/Users/sarniraj/opt/anaconda3/lib/python3.8/site-packages/sklearn/feature_extraction/text.py:396: UserWarning: Your stop_words may be inconsistent with your preprocessing. Tokenizing the stop words generated tokens ['running'] not in stop_words.\n",
      "  warnings.warn(\n",
      "/Users/sarniraj/opt/anaconda3/lib/python3.8/site-packages/sklearn/feature_extraction/text.py:396: UserWarning: Your stop_words may be inconsistent with your preprocessing. Tokenizing the stop words generated tokens ['running'] not in stop_words.\n",
      "  warnings.warn(\n",
      "/Users/sarniraj/opt/anaconda3/lib/python3.8/site-packages/sklearn/feature_extraction/text.py:396: UserWarning: Your stop_words may be inconsistent with your preprocessing. Tokenizing the stop words generated tokens ['running'] not in stop_words.\n",
      "  warnings.warn(\n",
      "/Users/sarniraj/opt/anaconda3/lib/python3.8/site-packages/sklearn/feature_extraction/text.py:396: UserWarning: Your stop_words may be inconsistent with your preprocessing. Tokenizing the stop words generated tokens ['running'] not in stop_words.\n",
      "  warnings.warn(\n",
      "/Users/sarniraj/opt/anaconda3/lib/python3.8/site-packages/sklearn/feature_extraction/text.py:396: UserWarning: Your stop_words may be inconsistent with your preprocessing. Tokenizing the stop words generated tokens ['running'] not in stop_words.\n",
      "  warnings.warn(\n",
      "/Users/sarniraj/opt/anaconda3/lib/python3.8/site-packages/sklearn/feature_extraction/text.py:396: UserWarning: Your stop_words may be inconsistent with your preprocessing. Tokenizing the stop words generated tokens ['running'] not in stop_words.\n",
      "  warnings.warn(\n",
      "/Users/sarniraj/opt/anaconda3/lib/python3.8/site-packages/sklearn/svm/_base.py:284: ConvergenceWarning: Solver terminated early (max_iter=5000).  Consider pre-processing your data with StandardScaler or MinMaxScaler.\n",
      "  warnings.warn(\n",
      "/Users/sarniraj/opt/anaconda3/lib/python3.8/site-packages/sklearn/svm/_base.py:284: ConvergenceWarning: Solver terminated early (max_iter=5000).  Consider pre-processing your data with StandardScaler or MinMaxScaler.\n",
      "  warnings.warn(\n",
      "/Users/sarniraj/opt/anaconda3/lib/python3.8/site-packages/sklearn/svm/_base.py:284: ConvergenceWarning: Solver terminated early (max_iter=5000).  Consider pre-processing your data with StandardScaler or MinMaxScaler.\n",
      "  warnings.warn(\n",
      "/Users/sarniraj/opt/anaconda3/lib/python3.8/site-packages/sklearn/svm/_base.py:284: ConvergenceWarning: Solver terminated early (max_iter=5000).  Consider pre-processing your data with StandardScaler or MinMaxScaler.\n",
      "  warnings.warn(\n",
      "/Users/sarniraj/opt/anaconda3/lib/python3.8/site-packages/sklearn/svm/_base.py:284: ConvergenceWarning: Solver terminated early (max_iter=5000).  Consider pre-processing your data with StandardScaler or MinMaxScaler.\n",
      "  warnings.warn(\n",
      "/Users/sarniraj/opt/anaconda3/lib/python3.8/site-packages/sklearn/svm/_base.py:284: ConvergenceWarning: Solver terminated early (max_iter=5000).  Consider pre-processing your data with StandardScaler or MinMaxScaler.\n",
      "  warnings.warn(\n",
      "/Users/sarniraj/opt/anaconda3/lib/python3.8/site-packages/sklearn/svm/_base.py:284: ConvergenceWarning: Solver terminated early (max_iter=5000).  Consider pre-processing your data with StandardScaler or MinMaxScaler.\n",
      "  warnings.warn(\n",
      "/Users/sarniraj/opt/anaconda3/lib/python3.8/site-packages/sklearn/svm/_base.py:284: ConvergenceWarning: Solver terminated early (max_iter=5000).  Consider pre-processing your data with StandardScaler or MinMaxScaler.\n",
      "  warnings.warn(\n",
      "/Users/sarniraj/opt/anaconda3/lib/python3.8/site-packages/sklearn/feature_extraction/text.py:396: UserWarning: Your stop_words may be inconsistent with your preprocessing. Tokenizing the stop words generated tokens ['running'] not in stop_words.\n",
      "  warnings.warn(\n",
      "/Users/sarniraj/opt/anaconda3/lib/python3.8/site-packages/sklearn/svm/_base.py:284: ConvergenceWarning: Solver terminated early (max_iter=5000).  Consider pre-processing your data with StandardScaler or MinMaxScaler.\n",
      "  warnings.warn(\n",
      "/Users/sarniraj/opt/anaconda3/lib/python3.8/site-packages/sklearn/svm/_base.py:284: ConvergenceWarning: Solver terminated early (max_iter=5000).  Consider pre-processing your data with StandardScaler or MinMaxScaler.\n",
      "  warnings.warn(\n",
      "/Users/sarniraj/opt/anaconda3/lib/python3.8/site-packages/sklearn/svm/_base.py:284: ConvergenceWarning: Solver terminated early (max_iter=5000).  Consider pre-processing your data with StandardScaler or MinMaxScaler.\n",
      "  warnings.warn(\n",
      "/Users/sarniraj/opt/anaconda3/lib/python3.8/site-packages/sklearn/feature_extraction/text.py:396: UserWarning: Your stop_words may be inconsistent with your preprocessing. Tokenizing the stop words generated tokens ['running'] not in stop_words.\n",
      "  warnings.warn(\n",
      "/Users/sarniraj/opt/anaconda3/lib/python3.8/site-packages/sklearn/feature_extraction/text.py:396: UserWarning: Your stop_words may be inconsistent with your preprocessing. Tokenizing the stop words generated tokens ['running'] not in stop_words.\n",
      "  warnings.warn(\n",
      "/Users/sarniraj/opt/anaconda3/lib/python3.8/site-packages/sklearn/feature_extraction/text.py:396: UserWarning: Your stop_words may be inconsistent with your preprocessing. Tokenizing the stop words generated tokens ['running'] not in stop_words.\n",
      "  warnings.warn(\n",
      "/Users/sarniraj/opt/anaconda3/lib/python3.8/site-packages/sklearn/feature_extraction/text.py:396: UserWarning: Your stop_words may be inconsistent with your preprocessing. Tokenizing the stop words generated tokens ['running'] not in stop_words.\n",
      "  warnings.warn(\n",
      "/Users/sarniraj/opt/anaconda3/lib/python3.8/site-packages/sklearn/feature_extraction/text.py:396: UserWarning: Your stop_words may be inconsistent with your preprocessing. Tokenizing the stop words generated tokens ['running'] not in stop_words.\n",
      "  warnings.warn(\n",
      "/Users/sarniraj/opt/anaconda3/lib/python3.8/site-packages/sklearn/feature_extraction/text.py:396: UserWarning: Your stop_words may be inconsistent with your preprocessing. Tokenizing the stop words generated tokens ['running'] not in stop_words.\n",
      "  warnings.warn(\n",
      "/Users/sarniraj/opt/anaconda3/lib/python3.8/site-packages/sklearn/feature_extraction/text.py:396: UserWarning: Your stop_words may be inconsistent with your preprocessing. Tokenizing the stop words generated tokens ['running'] not in stop_words.\n",
      "  warnings.warn(\n",
      "/Users/sarniraj/opt/anaconda3/lib/python3.8/site-packages/sklearn/feature_extraction/text.py:396: UserWarning: Your stop_words may be inconsistent with your preprocessing. Tokenizing the stop words generated tokens ['running'] not in stop_words.\n",
      "  warnings.warn(\n",
      "/Users/sarniraj/opt/anaconda3/lib/python3.8/site-packages/sklearn/feature_extraction/text.py:396: UserWarning: Your stop_words may be inconsistent with your preprocessing. Tokenizing the stop words generated tokens ['running'] not in stop_words.\n",
      "  warnings.warn(\n",
      "/Users/sarniraj/opt/anaconda3/lib/python3.8/site-packages/sklearn/svm/_base.py:284: ConvergenceWarning: Solver terminated early (max_iter=5000).  Consider pre-processing your data with StandardScaler or MinMaxScaler.\n",
      "  warnings.warn(\n",
      "/Users/sarniraj/opt/anaconda3/lib/python3.8/site-packages/sklearn/svm/_base.py:284: ConvergenceWarning: Solver terminated early (max_iter=5000).  Consider pre-processing your data with StandardScaler or MinMaxScaler.\n",
      "  warnings.warn(\n",
      "/Users/sarniraj/opt/anaconda3/lib/python3.8/site-packages/sklearn/svm/_base.py:284: ConvergenceWarning: Solver terminated early (max_iter=5000).  Consider pre-processing your data with StandardScaler or MinMaxScaler.\n",
      "  warnings.warn(\n",
      "/Users/sarniraj/opt/anaconda3/lib/python3.8/site-packages/sklearn/svm/_base.py:284: ConvergenceWarning: Solver terminated early (max_iter=5000).  Consider pre-processing your data with StandardScaler or MinMaxScaler.\n",
      "  warnings.warn(\n",
      "/Users/sarniraj/opt/anaconda3/lib/python3.8/site-packages/sklearn/svm/_base.py:284: ConvergenceWarning: Solver terminated early (max_iter=5000).  Consider pre-processing your data with StandardScaler or MinMaxScaler.\n",
      "  warnings.warn(\n",
      "/Users/sarniraj/opt/anaconda3/lib/python3.8/site-packages/sklearn/svm/_base.py:284: ConvergenceWarning: Solver terminated early (max_iter=5000).  Consider pre-processing your data with StandardScaler or MinMaxScaler.\n",
      "  warnings.warn(\n",
      "/Users/sarniraj/opt/anaconda3/lib/python3.8/site-packages/sklearn/svm/_base.py:284: ConvergenceWarning: Solver terminated early (max_iter=5000).  Consider pre-processing your data with StandardScaler or MinMaxScaler.\n",
      "  warnings.warn(\n",
      "/Users/sarniraj/opt/anaconda3/lib/python3.8/site-packages/sklearn/svm/_base.py:284: ConvergenceWarning: Solver terminated early (max_iter=5000).  Consider pre-processing your data with StandardScaler or MinMaxScaler.\n",
      "  warnings.warn(\n",
      "/Users/sarniraj/opt/anaconda3/lib/python3.8/site-packages/sklearn/feature_extraction/text.py:396: UserWarning: Your stop_words may be inconsistent with your preprocessing. Tokenizing the stop words generated tokens ['running'] not in stop_words.\n",
      "  warnings.warn(\n",
      "/Users/sarniraj/opt/anaconda3/lib/python3.8/site-packages/sklearn/svm/_base.py:284: ConvergenceWarning: Solver terminated early (max_iter=5000).  Consider pre-processing your data with StandardScaler or MinMaxScaler.\n",
      "  warnings.warn(\n",
      "/Users/sarniraj/opt/anaconda3/lib/python3.8/site-packages/sklearn/svm/_base.py:284: ConvergenceWarning: Solver terminated early (max_iter=5000).  Consider pre-processing your data with StandardScaler or MinMaxScaler.\n",
      "  warnings.warn(\n",
      "/Users/sarniraj/opt/anaconda3/lib/python3.8/site-packages/sklearn/feature_extraction/text.py:396: UserWarning: Your stop_words may be inconsistent with your preprocessing. Tokenizing the stop words generated tokens ['running'] not in stop_words.\n",
      "  warnings.warn(\n",
      "/Users/sarniraj/opt/anaconda3/lib/python3.8/site-packages/sklearn/feature_extraction/text.py:396: UserWarning: Your stop_words may be inconsistent with your preprocessing. Tokenizing the stop words generated tokens ['running'] not in stop_words.\n",
      "  warnings.warn(\n",
      "/Users/sarniraj/opt/anaconda3/lib/python3.8/site-packages/sklearn/feature_extraction/text.py:396: UserWarning: Your stop_words may be inconsistent with your preprocessing. Tokenizing the stop words generated tokens ['running'] not in stop_words.\n",
      "  warnings.warn(\n",
      "/Users/sarniraj/opt/anaconda3/lib/python3.8/site-packages/sklearn/feature_extraction/text.py:396: UserWarning: Your stop_words may be inconsistent with your preprocessing. Tokenizing the stop words generated tokens ['running'] not in stop_words.\n",
      "  warnings.warn(\n",
      "/Users/sarniraj/opt/anaconda3/lib/python3.8/site-packages/sklearn/feature_extraction/text.py:396: UserWarning: Your stop_words may be inconsistent with your preprocessing. Tokenizing the stop words generated tokens ['running'] not in stop_words.\n",
      "  warnings.warn(\n",
      "/Users/sarniraj/opt/anaconda3/lib/python3.8/site-packages/sklearn/feature_extraction/text.py:396: UserWarning: Your stop_words may be inconsistent with your preprocessing. Tokenizing the stop words generated tokens ['running'] not in stop_words.\n",
      "  warnings.warn(\n",
      "/Users/sarniraj/opt/anaconda3/lib/python3.8/site-packages/sklearn/feature_extraction/text.py:396: UserWarning: Your stop_words may be inconsistent with your preprocessing. Tokenizing the stop words generated tokens ['running'] not in stop_words.\n",
      "  warnings.warn(\n",
      "/Users/sarniraj/opt/anaconda3/lib/python3.8/site-packages/sklearn/feature_extraction/text.py:396: UserWarning: Your stop_words may be inconsistent with your preprocessing. Tokenizing the stop words generated tokens ['running'] not in stop_words.\n",
      "  warnings.warn(\n",
      "/Users/sarniraj/opt/anaconda3/lib/python3.8/site-packages/sklearn/feature_extraction/text.py:396: UserWarning: Your stop_words may be inconsistent with your preprocessing. Tokenizing the stop words generated tokens ['running'] not in stop_words.\n",
      "  warnings.warn(\n",
      "/Users/sarniraj/opt/anaconda3/lib/python3.8/site-packages/sklearn/svm/_base.py:284: ConvergenceWarning: Solver terminated early (max_iter=5000).  Consider pre-processing your data with StandardScaler or MinMaxScaler.\n",
      "  warnings.warn(\n",
      "/Users/sarniraj/opt/anaconda3/lib/python3.8/site-packages/sklearn/svm/_base.py:284: ConvergenceWarning: Solver terminated early (max_iter=5000).  Consider pre-processing your data with StandardScaler or MinMaxScaler.\n",
      "  warnings.warn(\n",
      "/Users/sarniraj/opt/anaconda3/lib/python3.8/site-packages/sklearn/svm/_base.py:284: ConvergenceWarning: Solver terminated early (max_iter=5000).  Consider pre-processing your data with StandardScaler or MinMaxScaler.\n",
      "  warnings.warn(\n",
      "/Users/sarniraj/opt/anaconda3/lib/python3.8/site-packages/sklearn/svm/_base.py:284: ConvergenceWarning: Solver terminated early (max_iter=5000).  Consider pre-processing your data with StandardScaler or MinMaxScaler.\n",
      "  warnings.warn(\n",
      "/Users/sarniraj/opt/anaconda3/lib/python3.8/site-packages/sklearn/svm/_base.py:284: ConvergenceWarning: Solver terminated early (max_iter=5000).  Consider pre-processing your data with StandardScaler or MinMaxScaler.\n",
      "  warnings.warn(\n",
      "/Users/sarniraj/opt/anaconda3/lib/python3.8/site-packages/sklearn/svm/_base.py:284: ConvergenceWarning: Solver terminated early (max_iter=5000).  Consider pre-processing your data with StandardScaler or MinMaxScaler.\n",
      "  warnings.warn(\n",
      "/Users/sarniraj/opt/anaconda3/lib/python3.8/site-packages/sklearn/svm/_base.py:284: ConvergenceWarning: Solver terminated early (max_iter=5000).  Consider pre-processing your data with StandardScaler or MinMaxScaler.\n",
      "  warnings.warn(\n",
      "/Users/sarniraj/opt/anaconda3/lib/python3.8/site-packages/sklearn/feature_extraction/text.py:396: UserWarning: Your stop_words may be inconsistent with your preprocessing. Tokenizing the stop words generated tokens ['running'] not in stop_words.\n",
      "  warnings.warn(\n",
      "/Users/sarniraj/opt/anaconda3/lib/python3.8/site-packages/sklearn/svm/_base.py:284: ConvergenceWarning: Solver terminated early (max_iter=5000).  Consider pre-processing your data with StandardScaler or MinMaxScaler.\n",
      "  warnings.warn(\n",
      "/Users/sarniraj/opt/anaconda3/lib/python3.8/site-packages/sklearn/svm/_base.py:284: ConvergenceWarning: Solver terminated early (max_iter=5000).  Consider pre-processing your data with StandardScaler or MinMaxScaler.\n",
      "  warnings.warn(\n",
      "/Users/sarniraj/opt/anaconda3/lib/python3.8/site-packages/sklearn/svm/_base.py:284: ConvergenceWarning: Solver terminated early (max_iter=5000).  Consider pre-processing your data with StandardScaler or MinMaxScaler.\n",
      "  warnings.warn(\n",
      "/Users/sarniraj/opt/anaconda3/lib/python3.8/site-packages/sklearn/feature_extraction/text.py:396: UserWarning: Your stop_words may be inconsistent with your preprocessing. Tokenizing the stop words generated tokens ['running'] not in stop_words.\n",
      "  warnings.warn(\n",
      "/Users/sarniraj/opt/anaconda3/lib/python3.8/site-packages/sklearn/feature_extraction/text.py:396: UserWarning: Your stop_words may be inconsistent with your preprocessing. Tokenizing the stop words generated tokens ['running'] not in stop_words.\n",
      "  warnings.warn(\n",
      "/Users/sarniraj/opt/anaconda3/lib/python3.8/site-packages/sklearn/feature_extraction/text.py:396: UserWarning: Your stop_words may be inconsistent with your preprocessing. Tokenizing the stop words generated tokens ['running'] not in stop_words.\n",
      "  warnings.warn(\n",
      "/Users/sarniraj/opt/anaconda3/lib/python3.8/site-packages/sklearn/feature_extraction/text.py:396: UserWarning: Your stop_words may be inconsistent with your preprocessing. Tokenizing the stop words generated tokens ['running'] not in stop_words.\n",
      "  warnings.warn(\n",
      "/Users/sarniraj/opt/anaconda3/lib/python3.8/site-packages/sklearn/feature_extraction/text.py:396: UserWarning: Your stop_words may be inconsistent with your preprocessing. Tokenizing the stop words generated tokens ['running'] not in stop_words.\n",
      "  warnings.warn(\n",
      "/Users/sarniraj/opt/anaconda3/lib/python3.8/site-packages/sklearn/feature_extraction/text.py:396: UserWarning: Your stop_words may be inconsistent with your preprocessing. Tokenizing the stop words generated tokens ['running'] not in stop_words.\n",
      "  warnings.warn(\n",
      "/Users/sarniraj/opt/anaconda3/lib/python3.8/site-packages/sklearn/feature_extraction/text.py:396: UserWarning: Your stop_words may be inconsistent with your preprocessing. Tokenizing the stop words generated tokens ['running'] not in stop_words.\n",
      "  warnings.warn(\n"
     ]
    }
   ],
   "source": [
    "#plt.figure(figsize=(8,6));  #unable to remove the output below the cell even with the ';'\n",
    "\n",
    "#ax1 = plt.subplot(2,2,1)\n",
    "\n",
    "\n",
    "\n",
    "sns.catplot(data = full_results_df, kind = 'bar', x = 'Reddit Text Type', y = 'Specificity', hue = 'Stop Word Type').set(\n",
    "    title = \"RF: Variation of Specificity by Reddit Text Type and Stop Word Type\");\n",
    "sns.catplot(data = svc_full_results_df, kind = 'bar', x = 'Reddit Text Type', y = 'Specificity', hue = 'Stop Word Type').set(\n",
    "    title = \"SVC: Variation of Specificity by Reddit Text Type and Stop Word Type\");\n",
    "sns.catplot(data = knn_full_results_df, kind = 'bar', x = 'Reddit Text Type', y = 'Specificity', hue = 'Stop Word Type').set(\n",
    "    title = \"KNN: Variation of Specificity by Reddit Text Type and Stop Word Type\");\n",
    "sns.catplot(data = et_full_results_df, kind = 'bar', x = 'Reddit Text Type', y = 'Specificity', hue = 'Stop Word Type').set(\n",
    "    title = \"ExtTree: Variation of Specificity by Reddit Text Type and Stop Word Type\");\n",
    "\n",
    "\n",
    "\n",
    "\n",
    "\n",
    "plt.savefig( \"../images/specificity_graph.png\")  # Save to file so can use it in the ppt\n",
    "\n",
    "\n"
   ]
  },
  {
   "cell_type": "markdown",
   "id": "a90b8778-b49c-405f-bb0c-4602abc61a5c",
   "metadata": {},
   "source": [
    "#### We have completed the deep dive on Random Forest and SVC. Now we'll look across all the 4 classifications and pick the best performing classifier. "
   ]
  },
  {
   "cell_type": "markdown",
   "id": "50a49a86-a72a-4b30-9286-817e58986413",
   "metadata": {},
   "source": [
    "#### End of notebook"
   ]
  }
 ],
 "metadata": {
  "kernelspec": {
   "display_name": "Python 3 (ipykernel)",
   "language": "python",
   "name": "python3"
  },
  "language_info": {
   "codemirror_mode": {
    "name": "ipython",
    "version": 3
   },
   "file_extension": ".py",
   "mimetype": "text/x-python",
   "name": "python",
   "nbconvert_exporter": "python",
   "pygments_lexer": "ipython3",
   "version": "3.8.8"
  }
 },
 "nbformat": 4,
 "nbformat_minor": 5
}
